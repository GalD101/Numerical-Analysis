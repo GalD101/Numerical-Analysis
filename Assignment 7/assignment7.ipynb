{
 "cells": [
  {
   "metadata": {},
   "cell_type": "markdown",
   "source": [
    "# Assignment 7\n",
    "## Gal Dali"
   ],
   "id": "39f97c88ff1397ac"
  },
  {
   "metadata": {},
   "cell_type": "markdown",
   "source": "### Question 1",
   "id": "12c18f0f1ae16cd7"
  },
  {
   "metadata": {},
   "cell_type": "markdown",
   "source": [
    "#### The Shooting method\n",
    "\n",
    "$$\\begin{cases}\n",
    "\\ddot{y}_1+\\frac{1}{t} \\dot y_{1} - y_2^{3}(y_1^{2}+1)=0\\\\\n",
    "\\ddot{y}_2+\\frac{3}{t} \\dot y_{2} + y_2^{5}(y_1^{2}+3)=0\n",
    "\\end{cases}$$\n",
    "\n",
    "$$\\begin{cases}\n",
    "y_1(1)=1 & y_1(2)=\\sqrt{5}\\\\\n",
    "y_2(1)=1 & y_2(2)=\\frac{1}{\\sqrt{5}}\n",
    "\\end{cases}$$\n",
    "$ t = 1 ... 2 $"
   ],
   "id": "ec0211bde91716aa"
  },
  {
   "metadata": {},
   "cell_type": "markdown",
   "source": [
    "$ \\text{Similar to what we saw in recitation, I will write the following equivalent system of first order ODEs: }$\n",
    "\n",
    "$$\\begin{cases}\n",
    "\\dot y_1 = y_3 & y_1(1) = 1\\\\\n",
    "\\dot y_2 = y_4 & y_2(1) = 1\\\\\n",
    "\\dot y_3 = -\\frac {1}{t} y_3 + y_2^3 (y_1^2 +1) & y_3(1) = ?\\\\\n",
    "\\dot y_4 = -\\frac {3}{t} y_4 - y_2^5 (y_1^2 + 3) & y_4(1) = ?\\\\\n",
    "\\end{cases}$$\n"
   ],
   "id": "5fa948c38cea8829"
  },
  {
   "metadata": {
    "ExecuteTime": {
     "end_time": "2025-01-04T09:08:46.586489Z",
     "start_time": "2025-01-04T09:08:46.566783Z"
    }
   },
   "cell_type": "code",
   "source": [
    "import numpy as np\n",
    "from scipy.integrate import solve_ivp\n",
    "import matplotlib.pyplot as plt"
   ],
   "id": "d8a5dd844329ba43",
   "outputs": [],
   "execution_count": 124
  },
  {
   "metadata": {
    "ExecuteTime": {
     "end_time": "2025-01-04T09:08:46.604407Z",
     "start_time": "2025-01-04T09:08:46.593496Z"
    }
   },
   "cell_type": "code",
   "source": [
    "# Define the system of ODEs I wrote above\n",
    "def f(t, y):\n",
    "    y1, y2, y3, y4 = y\n",
    "    return np.array([y3, y4, -(1 / t) * y3 + (y2 ** 3) * (y1 ** 2 + 1), -(3 / t) * y4 - (y2 ** 5) * (y1 ** 2 + 3)])"
   ],
   "id": "b257abc994669276",
   "outputs": [],
   "execution_count": 125
  },
  {
   "metadata": {
    "ExecuteTime": {
     "end_time": "2025-01-04T09:08:46.636245Z",
     "start_time": "2025-01-04T09:08:46.620120Z"
    }
   },
   "cell_type": "code",
   "source": [
    "# initial conditions\n",
    "y1_y2_at_1 = np.array([1, 1])\n",
    "y1_y2_at_2 = np.array([np.sqrt(5), 1 / np.sqrt(5)])\n",
    "\n",
    "# guess for y3 and y4 (I only need to use the initial conditions for time t = 1, but if I want to shoot from the other side, I can too)\n",
    "guess_y3_y4_at_1 = np.array([1.2, -0.6])  # initial guess for y3 and y4\n",
    "# guess_y3_y4_at_2 = np.array([2.5, 0.5])  # initial guess for y3 and y4 (the other boundary)\n",
    "\n",
    "# time span\n",
    "t_span = (1, 2)\n",
    "t_eval = np.linspace(*t_span, 100)"
   ],
   "id": "b76ea9626ad1538f",
   "outputs": [],
   "execution_count": 126
  },
  {
   "metadata": {},
   "cell_type": "markdown",
   "source": [
    "$$\\begin{cases}\n",
    "y_1(2)=\\sqrt{5}\\\\\n",
    "y_2(2)=\\frac{1}{\\sqrt{5}}\n",
    "\\end{cases}$$\n",
    "\n",
    "$\\text{The \"Fisfus\" function (the best name ever)}$\n",
    "$$\\begin{cases}\n",
    "F_1 = y_1(t_2 | y_3(1), y_4(1)) - \\sqrt{5}\\\\\n",
    "F_2 = y_2(t_2 | y_3(1), y_4(1)) - \\frac{1}{\\sqrt{5}}\n",
    "\\end{cases}$$"
   ],
   "id": "24107530c8f6fc7f"
  },
  {
   "metadata": {
    "ExecuteTime": {
     "end_time": "2025-01-04T09:08:46.668163Z",
     "start_time": "2025-01-04T09:08:46.652255Z"
    }
   },
   "cell_type": "code",
   "source": [
    "# The \"Fisfus\" function (lol)\n",
    "# The only \"true\" argument for F is our guess.\n",
    "# The rest are more like parameters and are defined outside the function.\n",
    "def F(guess_y_at_1_F: np.array) -> np.ndarray:\n",
    "    y_at_1_F = np.hstack((y1_y2_at_1, guess_y_at_1_F))\n",
    "    sol_F = solve_ivp(f, t_span, y_at_1_F, t_eval=t_eval)\n",
    "    return sol_F.y[:2, -1] - y1_y2_at_2"
   ],
   "id": "1710acc7bed2a07c",
   "outputs": [],
   "execution_count": 127
  },
  {
   "metadata": {},
   "cell_type": "markdown",
   "source": [
    "$\\text{The Jacobian of the \"Fisfus\" function (I love saying that)}$\n",
    "$$\n",
    "J = \\begin{pmatrix}\n",
    "\\frac{\\partial F_1}{\\partial{y_3(1)}} & \\frac{\\partial F_1}{\\partial{y_4(1)}} \\\\\n",
    "\\frac{\\partial F_2}{\\partial{y_3(1)}} & \\frac{\\partial F_2}{\\partial{y_4(1)}}\n",
    "\\end{pmatrix}\n",
    "$$\n",
    "\n",
    "$ \\text{Since the F function (functor) is dependent on a numerical calculation, we simply can't solve for J analytically. } $\n",
    "$ \\text{Unfortunately, we must turn to less accurate numerical methods.}$\n",
    "\n",
    "$$\n",
    "\\begin{align*}\n",
    "\\frac{\\partial F_1}{\\partial y_3(1)} &= \\frac{F_1(y_3(1) + h, y_4(1)) - F_1(y_3(1), y_4(1))}{h} \\\\\n",
    "\\frac{\\partial F_1}{\\partial y_4(1)} &= \\frac{F_1(y_3(1), y_4(1) + h) - F_1(y_3(1), y_4(1))}{h} \\\\\n",
    "\\frac{\\partial F_2}{\\partial y_3(1)} &= \\frac{F_1(y_3(1) + h, y_4(1)) - F_1(y_3(1), y_4(1))}{h} \\\\\n",
    "\\frac{\\partial F_2}{\\partial y_4(1)} &= \\frac{F_1(y_3(1), y_4(1) + h) - F_1(y_3(1), y_4(1))}{h}\n",
    "\\end{align*}\n",
    "$$"
   ],
   "id": "9999d3c0db590962"
  },
  {
   "metadata": {
    "ExecuteTime": {
     "end_time": "2025-01-04T09:08:46.699650Z",
     "start_time": "2025-01-04T09:08:46.683818Z"
    }
   },
   "cell_type": "code",
   "source": [
    "# Find the Jacobian matrix numerically (The worst part of this method, also I had a bug here where I accidentally divided by h twice, classic bug)\n",
    "def J(guess_y_at_1_F: np.array, h: float = 1e-5) -> np.ndarray:\n",
    "    F_at_guess = F(guess_y_at_1_F)  # F(y_3(1), y_4(1))\n",
    "    F_at_guess_plus_h_1 = F(guess_y_at_1_F + np.array([h, 0]))  # F(y_3(1) + h, y_4(1))\n",
    "    F_at_guess_plus_h_2 = F(guess_y_at_1_F + np.array([0, h]))  # F(y_3(1), y_4(1) + h)\n",
    "    return (1 / h) * np.array([\n",
    "        [(F_at_guess_plus_h_1[0] - F_at_guess[0]), (F_at_guess_plus_h_2[0] - F_at_guess[0])],\n",
    "        [(F_at_guess_plus_h_1[1] - F_at_guess[1]), (F_at_guess_plus_h_2[1] - F_at_guess[1])]\n",
    "    ])"
   ],
   "id": "cedf8a4ac2a5e10",
   "outputs": [],
   "execution_count": 128
  },
  {
   "metadata": {},
   "cell_type": "markdown",
   "source": [
    "$$J \\cdot \\begin{pmatrix}\n",
    "\\Delta s_3 \\\\\n",
    "\\Delta s_4\n",
    "\\end{pmatrix} = -F$$\n",
    "\n",
    "$ \\text{We now wish to solve for the vector } \\vec \\Delta s = \\begin{pmatrix} \\Delta s_3 \\\\ \\Delta s_4 \\end{pmatrix} \\text{ using Newton-Raphson method.} $"
   ],
   "id": "12c02efebdf78ef8"
  },
  {
   "metadata": {
    "ExecuteTime": {
     "end_time": "2025-01-04T09:08:46.731492Z",
     "start_time": "2025-01-04T09:08:46.715433Z"
    }
   },
   "cell_type": "code",
   "source": [
    "# Newton-Raphson method\n",
    "def NR_shooting(guess_y_at_1_NR: np.array, tol: float = 1e-5) -> np.array:\n",
    "    delta_s_NR = np.inf\n",
    "    corrected_guess_NR = guess_y_at_1_NR\n",
    "    # shoot and correct your aim until you hit\n",
    "    while np.linalg.norm(delta_s_NR) > tol:\n",
    "        delta_s_NR = -1 * np.linalg.solve(J(corrected_guess_NR), F(corrected_guess_NR))\n",
    "        corrected_guess_NR = corrected_guess_NR + delta_s_NR  # correct the guess\n",
    "    return corrected_guess_NR"
   ],
   "id": "619e8b8beabd1b99",
   "outputs": [],
   "execution_count": 129
  },
  {
   "metadata": {},
   "cell_type": "markdown",
   "source": "For some reason, I can't get the right solution :( I really try to understand why, but for some reason my code just doesn't work :(((((",
   "id": "c300f226574953e9"
  },
  {
   "metadata": {
    "ExecuteTime": {
     "end_time": "2025-01-04T09:08:47.012124Z",
     "start_time": "2025-01-04T09:08:46.763081Z"
    }
   },
   "cell_type": "code",
   "source": [
    "# Solve the problem. NOTE: if this runs for too long, that means your guess is bad! It also seems like the tolerance can heavily affect the calculation time. This method seems pretty hard to use since you really have to be smart when guessing and know how to pick a good tolerance\n",
    "\n",
    "# Find the corrected initial conditions\n",
    "better_guess = NR_shooting(guess_y3_y4_at_1)\n",
    "y_at_1 = np.hstack((y1_y2_at_1, better_guess))\n",
    "\n",
    "# Solve the ODEs\n",
    "ode_solution = solve_ivp(f, t_span, y_at_1, t_eval=t_eval)\n",
    "\n",
    "# Plot the solution and the boundary conditions: y1(1) = 1, y_1(2) = sqrt(5), y_2(1) = 1, y_2(2) = 1/sqrt(5)\n",
    "plt.plot(ode_solution.t, ode_solution.y[0], label='y1')\n",
    "plt.plot(ode_solution.t, ode_solution.y[1], label='y2')\n",
    "\n",
    "# Add the boundary condition points\n",
    "plt.scatter([1, 2], [1, np.sqrt(5)], color='red', zorder=5)  # y1 boundary conditions\n",
    "plt.scatter([1, 2], [1, 1 / np.sqrt(5)], color='blue', zorder=5)  # y2 boundary conditions\n",
    "\n",
    "plt.legend()\n",
    "plt.xlabel('t')\n",
    "plt.ylabel('y')\n",
    "plt.title('Solution of the ODEs with Boundary Conditions')\n",
    "plt.show()\n",
    "print(\"This solution is wrong, and I have no clue what so ever why I failed to solve it :((((((((((((((((((((((((((. also, slightly modifying the guess really affects the results\")"
   ],
   "id": "36485c90fadfd706",
   "outputs": [
    {
     "data": {
      "text/plain": [
       "<Figure size 640x480 with 1 Axes>"
      ],
      "image/png": "[encoded data removed]"
     },
     "metadata": {},
     "output_type": "display_data"
    },
    {
     "name": "stdout",
     "output_type": "stream",
     "text": [
      "This solution is wrong, and I have no clue what so ever why I failed to solve it :((((((((((((((((((((((((((. also, slightly modifying the guess really affects the results\n"
     ]
    }
   ],
   "execution_count": 130
  },
  {
   "metadata": {},
   "cell_type": "markdown",
   "source": "Note: I implemented the methods in python in an ad-hoc manner for the specific problem I was facing because it was easier to implement. Using this codebase is not meant for general purpose problems, but the logic can still be gleaned from it for more general use cases. But my solution is wrong so never mind :(",
   "id": "47e38382a5cf15a3"
  },
  {
   "metadata": {
    "ExecuteTime": {
     "end_time": "2025-01-04T09:08:47.392751Z",
     "start_time": "2025-01-04T09:08:47.061358Z"
    }
   },
   "cell_type": "code",
   "source": [
    "# Solution using the code I was given\n",
    "def f(t, y):\n",
    "    y1, y2, y3, y4 = y\n",
    "    return np.array([y3, y4, -(1 / t) * y3 + (y2 ** 3) * (y1 ** 2 + 1), -(3 / t) * y4 - (y2 ** 5) * (y1 ** 2 + 3)])\n",
    "\n",
    "y0s = np.array([1,1]) # known initial values\n",
    "yfs = np.array([np.sqrt(5), 1 / np.sqrt(5)]) # known final values\n",
    "tspan = (1,2)\n",
    "\n",
    "y2_guess = 1.2\n",
    "y3_guess = -0.6\n",
    "y0g = np.array([y2_guess, y3_guess]) # guessed initial values\n",
    "\n",
    "def F(y0g):\n",
    "  y0 = np.hstack((y0s,y0g)) # all initial values\n",
    "  sol = solve_ivp(f,tspan,y0)\n",
    "  return sol.y[:2,-1] - yfs   # dist from known final values\n",
    "\n",
    "def J(y0g):\n",
    "  h = 0.001\n",
    "  F_vv = F(y0g) # F(y03, y04)\n",
    "  F_vhv = F(y0g+h*np.array([1,0])) # F(y03+h, y04)\n",
    "  F_vvh = F(y0g+h*np.array([0,1])) # F(y03, y04+h)\n",
    "  return (1/h) * np.array([\n",
    "      [F_vhv[0] - F_vv[0] , F_vvh[0] - F_vv[0]],\n",
    "      [F_vhv[1] - F_vv[1] , F_vvh[1] - F_vv[1]]\n",
    "  ])\n",
    "\n",
    "def NR_shooting(y0g):\n",
    "  tol = 1e-5\n",
    "  delta_s = np.inf\n",
    "  while np.linalg.norm(delta_s) > tol:\n",
    "    delta_s = -1 * np.linalg.solve(J(y0g),F(y0g))\n",
    "    y0g = y0g + delta_s   # update initial guess\n",
    "  return y0g\n",
    "\n",
    "y0g = NR_shooting(y0g)\n",
    "y0 = np.hstack((y0s,y0g)) # initial values with the updated guess\n",
    "t_eval = np.linspace(tspan[0],tspan[1],100)\n",
    "sol = solve_ivp(f,tspan,y0,t_eval=t_eval)\n",
    "\n",
    "# This also yields a wrong solution. IDK why :(\n",
    "plt.plot(sol.t, sol.y[0], label=r'$y_1$')\n",
    "plt.plot(sol.t, sol.y[1], label=r'$y_2$')\n",
    "plt.plot(sol.t, sol.y[2], '--', label=r'$\\dot{y}_1$')\n",
    "plt.plot(sol.t, sol.y[3], '--', label=r'$\\dot{y}_2$')\n",
    "plt.plot(tspan, [y0s[0],yfs[0]], 'bo')\n",
    "plt.plot(tspan, [y0s[1],yfs[1]], 'bo')\n",
    "plt.legend()\n",
    "plt.show()"
   ],
   "id": "437437d5ee7042c3",
   "outputs": [
    {
     "data": {
      "text/plain": [
       "<Figure size 640x480 with 1 Axes>"
      ],
      "image/png": "[encoded data removed]"
     },
     "metadata": {},
     "output_type": "display_data"
    }
   ],
   "execution_count": 131
  },
  {
   "metadata": {},
   "cell_type": "markdown",
   "source": "### Question 2",
   "id": "e41f9873ae716fe3"
  },
  {
   "metadata": {},
   "cell_type": "markdown",
   "source": [
    "#### The Relaxation method\n",
    "\n",
    "$$\\ddot{\\theta} = -\\omega^2 \\sin(\\theta) - \\gamma \\dot{\\theta}$$\n",
    "\n",
    "$$\\theta(0) = \\theta_0, \\quad \\theta(t_f) = 0$$"
   ],
   "id": "455dc3673328dc83"
  },
  {
   "metadata": {},
   "cell_type": "markdown",
   "source": [
    "$$\\dot \\theta = s$$\n",
    "\n",
    "$$\\dot s = -\\omega^2 \\sin(\\theta) - \\gamma s$$"
   ],
   "id": "8e45095a3b7e3a89"
  },
  {
   "metadata": {},
   "cell_type": "markdown",
   "source": [
    "$ \\frac{\\theta_{i+1} - \\theta_i}{h} = \\frac{s_i + s_{i+1}}{2} $\n",
    "$ \\frac{s_{i+1} - s_i}{h} = \\omega^2 \\sin(\\frac{\\theta_i + \\theta_{i+1}}{2}) - \\gamma \\frac{s_i + s_{i+1}}{2} $"
   ],
   "id": "9d66a5d8c52848b9"
  },
  {
   "metadata": {
    "ExecuteTime": {
     "end_time": "2025-01-04T09:08:47.492789Z",
     "start_time": "2025-01-04T09:08:47.408808Z"
    }
   },
   "cell_type": "code",
   "source": [
    "y0 = np.pi/4\n",
    "yf = 0\n",
    "w = 1\n",
    "\n",
    "N = 1000  # number of segments\n",
    "N_eq = 2*N  # number of equations\n",
    "\n",
    "tspan = (0,10)\n",
    "t_val = np.linspace(tspan[0],tspan[1],N+1) # edges of N segments\n",
    "h = (tspan[1] - tspan[0]) / N\n",
    "\n",
    "def F(y,s):\n",
    "  f = np.zeros(N_eq)\n",
    "  for i in range(N):\n",
    "    f[2*i] = y[i+1] - y[i] - 0.5*h*(s[i]+s[i+1])\n",
    "    f[2*i+1] = s[i+1] - s[i] + h*(w**2)*np.sin(0.5*(y[i]+y[i+1]))\n",
    "  return f\n",
    "\n",
    "def J(y,s):\n",
    "  M = np.zeros((N_eq,N_eq))\n",
    "  M[0,0:3] = np.array([-0.5*h, 1, -0.5*h])\n",
    "  M[1,0:3] = np.array([-1, 0.5*h*(w**2)*np.cos(0.5*(y[0]+y[1])), 1])\n",
    "  for i in range(1,N-1):\n",
    "    j = 2*i\n",
    "    c = 0.5*h*(w**2)*np.cos(0.5*(y[i]+y[i+1]))  # c_i,j\n",
    "    M[j,j-1:j+3] = np.array([-1, -0.5*h, 1, -0.5*h])\n",
    "    M[j+1,j-1:j+3] = np.array([c, -1, c, 1])\n",
    "  M[-2,-3:] = np.array([-1, -0.5*h, -0.5*h])\n",
    "  M[-1,-3:] = np.array([0.5*h*(w**2)*np.cos(0.5*(y[-2]+y[-1])), -1, 1])\n",
    "  return csr_matrix(M)\n",
    "\n",
    "def NR_relax(y,s):\n",
    "  tol = 1e-5\n",
    "  delta_x = np.inf\n",
    "  # convert from y,s to x:\n",
    "  x = np.zeros(N_eq)\n",
    "  x[0::2] = s[:-1]\n",
    "  x[-1] = s[-1]\n",
    "  x[1:-1:2] = y[1:-1]\n",
    "  while np.linalg.norm(delta_x) > tol:\n",
    "    delta_x = -1 * spsolve(J(y,s),F(y,s))\n",
    "    x = x + delta_x\n",
    "    # update y,s according to x:\n",
    "    y = np.hstack(([y0],x[1:N_eq-1:2],[yf]))\n",
    "    s = np.hstack((x[0::2], x[-1]))\n",
    "  return y,s\n",
    "\n",
    "# initial guesses for all variables:\n",
    "s = ((yf-y0)/(tspan[1]-tspan[0])) * np.ones(N+1)\n",
    "y = y0 + s[0]*t_val\n",
    "# make sure known values are correct:\n",
    "y[0] = y0\n",
    "y[-1] = yf\n",
    "\n",
    "y,s = NR_relax(y,s) # find the correct variables"
   ],
   "id": "5c8ca47f931e5863",
   "outputs": [
    {
     "ename": "NameError",
     "evalue": "name 'spsolve' is not defined",
     "output_type": "error",
     "traceback": [
      "\u001B[1;31m---------------------------------------------------------------------------\u001B[0m",
      "\u001B[1;31mNameError\u001B[0m                                 Traceback (most recent call last)",
      "Cell \u001B[1;32mIn[132], line 55\u001B[0m\n\u001B[0;32m     52\u001B[0m y[\u001B[38;5;241m0\u001B[39m] \u001B[38;5;241m=\u001B[39m y0\n\u001B[0;32m     53\u001B[0m y[\u001B[38;5;241m-\u001B[39m\u001B[38;5;241m1\u001B[39m] \u001B[38;5;241m=\u001B[39m yf\n\u001B[1;32m---> 55\u001B[0m y,s \u001B[38;5;241m=\u001B[39m \u001B[43mNR_relax\u001B[49m\u001B[43m(\u001B[49m\u001B[43my\u001B[49m\u001B[43m,\u001B[49m\u001B[43ms\u001B[49m\u001B[43m)\u001B[49m \u001B[38;5;66;03m# find the correct variables\u001B[39;00m\n",
      "Cell \u001B[1;32mIn[132], line 41\u001B[0m, in \u001B[0;36mNR_relax\u001B[1;34m(y, s)\u001B[0m\n\u001B[0;32m     39\u001B[0m x[\u001B[38;5;241m1\u001B[39m:\u001B[38;5;241m-\u001B[39m\u001B[38;5;241m1\u001B[39m:\u001B[38;5;241m2\u001B[39m] \u001B[38;5;241m=\u001B[39m y[\u001B[38;5;241m1\u001B[39m:\u001B[38;5;241m-\u001B[39m\u001B[38;5;241m1\u001B[39m]\n\u001B[0;32m     40\u001B[0m \u001B[38;5;28;01mwhile\u001B[39;00m np\u001B[38;5;241m.\u001B[39mlinalg\u001B[38;5;241m.\u001B[39mnorm(delta_x) \u001B[38;5;241m>\u001B[39m tol:\n\u001B[1;32m---> 41\u001B[0m   delta_x \u001B[38;5;241m=\u001B[39m \u001B[38;5;241m-\u001B[39m\u001B[38;5;241m1\u001B[39m \u001B[38;5;241m*\u001B[39m \u001B[43mspsolve\u001B[49m(J(y,s),F(y,s))\n\u001B[0;32m     42\u001B[0m   x \u001B[38;5;241m=\u001B[39m x \u001B[38;5;241m+\u001B[39m delta_x\n\u001B[0;32m     43\u001B[0m   \u001B[38;5;66;03m# update y,s according to x:\u001B[39;00m\n",
      "\u001B[1;31mNameError\u001B[0m: name 'spsolve' is not defined"
     ]
    }
   ],
   "execution_count": 132
  },
  {
   "metadata": {},
   "cell_type": "code",
   "source": "",
   "id": "c41f953ffc9970b8",
   "outputs": [],
   "execution_count": null
  }
 ],
 "metadata": {
  "kernelspec": {
   "display_name": "Python 3",
   "language": "python",
   "name": "python3"
  },
  "language_info": {
   "codemirror_mode": {
    "name": "ipython",
    "version": 2
   },
   "file_extension": ".py",
   "mimetype": "text/x-python",
   "name": "python",
   "nbconvert_exporter": "python",
   "pygments_lexer": "ipython2",
   "version": "2.7.6"
  }
 },
 "nbformat": 4,
 "nbformat_minor": 5
}
