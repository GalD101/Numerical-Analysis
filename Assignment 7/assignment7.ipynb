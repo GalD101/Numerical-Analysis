{
 "cells": [
  {
   "metadata": {},
   "cell_type": "markdown",
   "source": [
    "# Assignment 7\n",
    "## Gal Dali"
   ],
   "id": "39f97c88ff1397ac"
  },
  {
   "metadata": {},
   "cell_type": "markdown",
   "source": "### Question 1",
   "id": "12c18f0f1ae16cd7"
  },
  {
   "metadata": {},
   "cell_type": "markdown",
   "source": [
    "$$\\begin{cases}\n",
    "\\ddot{y}_1+\\frac{1}{t} \\dot y_{1} - y_2^{3}(y_1^{2}+1)=0\\\\\n",
    "\\ddot{y}_2+\\frac{3}{t} \\dot y_{2} + y_2^{5}(y_1^{2}+3)=0\n",
    "\\end{cases}$$\n",
    "\n",
    "$$\\begin{cases}\n",
    "y_1(1)=1 & y_1(2)=\\sqrt{5}\\\\\n",
    "y_2(1)=1 & y_2(2)=\\frac{1}{\\sqrt{5}}\n",
    "\\end{cases}$$\n",
    "$ t = 1 ... 2 $"
   ],
   "id": "ec0211bde91716aa"
  },
  {
   "metadata": {},
   "cell_type": "markdown",
   "source": [
    "$ \\text{Similar to what we saw in recitation, I will write the following equivalent system of first order ODEs: }$\n",
    "\n",
    "$$\\begin{cases}\n",
    "\\dot y_1 = y_3 & y_1(1) = 1\\\\\n",
    "\\dot y_2 = y_4 & y_2(1) = 1\\\\\n",
    "\\dot y_3 = -\\frac {1}{t} y_3 + y_2^3 (y_1^2 +1) & y_3(1) = ?\\\\\n",
    "\\dot y_4 = -\\frac {3}{t} y_4 - y_2^5 (y_1^2 + 3) & y_4(1) = ?\\\\\n",
    "\\end{cases}$$\n"
   ],
   "id": "5fa948c38cea8829"
  },
  {
   "metadata": {
    "ExecuteTime": {
     "end_time": "2025-01-03T12:59:36.808168Z",
     "start_time": "2025-01-03T12:59:36.776735Z"
    }
   },
   "cell_type": "code",
   "source": [
    "import numpy as np\n",
    "from scipy.integrate import solve_ivp\n",
    "import matplotlib.pyplot as plt"
   ],
   "id": "d8a5dd844329ba43",
   "outputs": [],
   "execution_count": 65
  },
  {
   "metadata": {
    "ExecuteTime": {
     "end_time": "2025-01-03T12:59:36.823871Z",
     "start_time": "2025-01-03T12:59:36.813530Z"
    }
   },
   "cell_type": "code",
   "source": [
    "# Define the system of ODEs I wrote above\n",
    "def f(t, y):\n",
    "    y1, y2, y3, y4 = y\n",
    "    return [y3, y4, -(1 / t) * y3 + (y2 ** 3) * (y1 ** 2 + 1), -(3 / t) * y4 - (y2 ** 5) * (y1 ** 2 + 3)]"
   ],
   "id": "b257abc994669276",
   "outputs": [],
   "execution_count": 66
  },
  {
   "metadata": {
    "ExecuteTime": {
     "end_time": "2025-01-03T12:59:36.855506Z",
     "start_time": "2025-01-03T12:59:36.839682Z"
    }
   },
   "cell_type": "code",
   "source": [
    "# initial conditions\n",
    "y1_y2_at_1 = np.array([1, 1])\n",
    "y1_y2_at_2 = np.array([np.sqrt(5), 1 / np.sqrt(5)])\n",
    "\n",
    "# guess for y3 and y4 (I only need to use the initial conditions for time t = 1, but if I want to shoot from the other side, I can too)\n",
    "guess_y3_y4_at_1 = np.array([1.2, -0.6])  # initial guess for y3 and y4\n",
    "# guess_y3_y4_at_2 = np.array([2.5, 0.5])  # initial guess for y3 and y4 (the other boundary)\n",
    "\n",
    "# time span\n",
    "t_span = (1, 2)\n",
    "t_eval = np.linspace(*t_span, 100)"
   ],
   "id": "b76ea9626ad1538f",
   "outputs": [],
   "execution_count": 67
  },
  {
   "metadata": {},
   "cell_type": "markdown",
   "source": [
    "$$\\begin{cases}\n",
    "y_1(2)=\\sqrt{5}\\\\\n",
    "y_2(2)=\\frac{1}{\\sqrt{5}}\n",
    "\\end{cases}$$\n",
    "\n",
    "$\\text{The \"Fisfus\" function (the best name ever)}$\n",
    "$$\\begin{cases}\n",
    "F_1 = y_1(t_2 | y_3(1), y_4(1)) - \\sqrt{5}\\\\\n",
    "F_2 = y_2(t_2 | y_3(1), y_4(1)) - \\frac{1}{\\sqrt{5}}\n",
    "\\end{cases}$$"
   ],
   "id": "24107530c8f6fc7f"
  },
  {
   "metadata": {
    "ExecuteTime": {
     "end_time": "2025-01-03T12:59:36.887218Z",
     "start_time": "2025-01-03T12:59:36.871425Z"
    }
   },
   "cell_type": "code",
   "source": [
    "# The \"Fisfus\" function (lol)\n",
    "# The only \"true\" argument for F is our guess.\n",
    "# The rest are more like parameters and are defined outside the function.\n",
    "def F(guess_y_at_1_F: np.array) -> np.ndarray:\n",
    "    y_at_1_F = np.hstack((y1_y2_at_1, guess_y_at_1_F))\n",
    "    sol_F = solve_ivp(f, t_span, y_at_1_F, t_eval=t_eval)\n",
    "    return sol_F.y[:2, -1] - y1_y2_at_2"
   ],
   "id": "1710acc7bed2a07c",
   "outputs": [],
   "execution_count": 68
  },
  {
   "metadata": {},
   "cell_type": "markdown",
   "source": [
    "$\\text{The Jacobian of the \"Fisfus\" function (I love saying that)}$\n",
    "$$\n",
    "J = \\begin{pmatrix}\n",
    "\\frac{\\partial F_1}{\\partial{y_3(1)}} & \\frac{\\partial F_1}{\\partial{y_4(1)}} \\\\\n",
    "\\frac{\\partial F_2}{\\partial{y_3(1)}} & \\frac{\\partial F_2}{\\partial{y_4(1)}}\n",
    "\\end{pmatrix}\n",
    "$$\n",
    "\n",
    "$ \\text{Since the F function (functor) is dependent on a numerical calculation, we simply can't solve for J analytically. } $\n",
    "$ \\text{Unfortunately, we must turn to less accurate numerical methods.}$\n",
    "\n",
    "$$\n",
    "\\begin{align*}\n",
    "\\frac{\\partial F_1}{\\partial y_3(1)} &= \\frac{F_1(y_3(1) + h, y_4(1)) - F_1(y_3(1), y_4(1))}{h} \\\\\n",
    "\\frac{\\partial F_1}{\\partial y_4(1)} &= \\frac{F_1(y_3(1), y_4(1) + h) - F_1(y_3(1), y_4(1))}{h} \\\\\n",
    "\\frac{\\partial F_2}{\\partial y_3(1)} &= \\frac{F_1(y_3(1) + h, y_4(1)) - F_1(y_3(1), y_4(1))}{h} \\\\\n",
    "\\frac{\\partial F_2}{\\partial y_4(1)} &= \\frac{F_1(y_3(1), y_4(1) + h) - F_1(y_3(1), y_4(1))}{h}\n",
    "\\end{align*}\n",
    "$$"
   ],
   "id": "9999d3c0db590962"
  },
  {
   "metadata": {
    "ExecuteTime": {
     "end_time": "2025-01-03T12:59:36.919441Z",
     "start_time": "2025-01-03T12:59:36.903216Z"
    }
   },
   "cell_type": "code",
   "source": [
    "# Find the Jacobian matrix numerically (The worst part of this method, also I had a bug here where I accidentally divided by h twice, classic bug)\n",
    "def J(guess_y_at_1_F: np.array, h: float = 1e-5) -> np.ndarray:\n",
    "    F_at_guess = F(guess_y_at_1_F)  # F(y_3(1), y_4(1))\n",
    "    F_at_guess_plus_h_1 = F(guess_y_at_1_F + np.array([h, 0]))  # F(y_3(1) + h, y_4(1))\n",
    "    F_at_guess_plus_h_2 = F(guess_y_at_1_F + np.array([0, h]))  # F(y_3(1), y_4(1) + h)\n",
    "    return (1 / h) * np.array([\n",
    "        [(F_at_guess_plus_h_1[0] - F_at_guess[0]), (F_at_guess_plus_h_2[0] - F_at_guess[0])],\n",
    "        [(F_at_guess_plus_h_1[1] - F_at_guess[1]), (F_at_guess_plus_h_2[1] - F_at_guess[1])]\n",
    "    ])"
   ],
   "id": "cedf8a4ac2a5e10",
   "outputs": [],
   "execution_count": 69
  },
  {
   "metadata": {},
   "cell_type": "markdown",
   "source": [
    "$$J \\cdot \\begin{pmatrix}\n",
    "\\Delta s_3 \\\\\n",
    "\\Delta s_4\n",
    "\\end{pmatrix} = -F$$\n",
    "\n",
    "$ \\text{We now wish to solve for the vector } \\vec \\Delta s = \\begin{pmatrix} \\Delta s_3 \\\\ \\Delta s_4 \\end{pmatrix} \\text{ using Newton-Raphson method.} $"
   ],
   "id": "12c02efebdf78ef8"
  },
  {
   "metadata": {
    "ExecuteTime": {
     "end_time": "2025-01-03T12:59:36.943061Z",
     "start_time": "2025-01-03T12:59:36.935617Z"
    }
   },
   "cell_type": "code",
   "source": [
    "# Newton-Raphson method\n",
    "def NR_shooting(guess_y_at_1_NR: np.array, tol: float = 1e-5) -> np.array:\n",
    "    delta_s_NR = np.inf\n",
    "    corrected_guess_NR = guess_y_at_1_NR\n",
    "    # shoot and correct your aim until you hit\n",
    "    while np.linalg.norm(delta_s_NR) > tol:\n",
    "        delta_s_NR = -1 * np.linalg.solve(J(corrected_guess_NR), F(corrected_guess_NR))\n",
    "        corrected_guess_NR = corrected_guess_NR + delta_s_NR  # correct the guess\n",
    "    return corrected_guess_NR"
   ],
   "id": "619e8b8beabd1b99",
   "outputs": [],
   "execution_count": 70
  },
  {
   "metadata": {
    "ExecuteTime": {
     "end_time": "2025-01-03T12:59:36.994587Z",
     "start_time": "2025-01-03T12:59:36.978348Z"
    }
   },
   "cell_type": "code",
   "source": [
    "# better_guess = NR_shooting(guess_y3_y4_at_1)\n",
    "# y_at_1 = np.hstack((y1_y2_at_1, better_guess))\n",
    "# ode_solution = solve_ivp(f, t_span, y_at_1, t_eval=t_eval)\n",
    "#\n",
    "# # Evaluate the solution at t = 2\n",
    "# y_at_2 = ode_solution.y[:, -1]\n",
    "# y1_at_2, y2_at_2 = y_at_2[0], y_at_2[1]\n",
    "#\n",
    "# # Print the results for verification\n",
    "# print(f\"y1(2) = {y1_at_2}, Expected: ~{y1_y2_at_2[0]}\")\n",
    "# print(f\"y2(2) = {y2_at_2}, Expected: ~{y1_y2_at_2[1]}\")"
   ],
   "id": "e0386d5b4079afb8",
   "outputs": [],
   "execution_count": 71
  },
  {
   "metadata": {},
   "cell_type": "markdown",
   "source": "For some reason, I can't get the right solution :( I really try to understand why, but for some reason my code just doesn't work :(((((",
   "id": "c300f226574953e9"
  },
  {
   "metadata": {
    "ExecuteTime": {
     "end_time": "2025-01-03T12:59:37.239688Z",
     "start_time": "2025-01-03T12:59:36.994587Z"
    }
   },
   "cell_type": "code",
   "source": [
    "# Solve the problem. NOTE: if this runs for too long, that means your guess is bad! It also seems like the tolerance can heavily affect the calculation time. This method seems pretty hard to use since you really have to be smart when guessing and know how to pick a good tolerance\n",
    "\n",
    "# Find the corrected initial conditions\n",
    "better_guess = NR_shooting(guess_y3_y4_at_1)\n",
    "y_at_1 = np.hstack((y1_y2_at_1, better_guess))\n",
    "\n",
    "# Solve the ODEs\n",
    "ode_solution = solve_ivp(f, t_span, y_at_1, t_eval=t_eval)\n",
    "\n",
    "# Plot the solution and the boundary conditions: y1(1) = 1, y_1(2) = sqrt(5), y_2(1) = 1, y_2(2) = 1/sqrt(5)\n",
    "plt.plot(ode_solution.t, ode_solution.y[0], label='y1')\n",
    "plt.plot(ode_solution.t, ode_solution.y[1], label='y2')\n",
    "\n",
    "# Add the boundary condition points\n",
    "plt.scatter([1, 2], [1, np.sqrt(5)], color='red', zorder=5)  # y1 boundary conditions\n",
    "plt.scatter([1, 2], [1, 1 / np.sqrt(5)], color='blue', zorder=5)  # y2 boundary conditions\n",
    "\n",
    "plt.legend()\n",
    "plt.xlabel('t')\n",
    "plt.ylabel('y')\n",
    "plt.title('Solution of the ODEs with Boundary Conditions')\n",
    "plt.show()\n",
    "print(\"This solution is wrong, and I have no clue what so ever why I failed to solve it :((((((((((((((((((((((((((.\")"
   ],
   "id": "36485c90fadfd706",
   "outputs": [
    {
     "data": {
      "text/plain": [
       "<Figure size 640x480 with 1 Axes>"
      ],
      "image/png": "[encoded data removed]"
     },
     "metadata": {},
     "output_type": "display_data"
    },
    {
     "name": "stdout",
     "output_type": "stream",
     "text": [
      "This solution is wrong, and I have no clue what so ever why I failed to solve it :((((((((((((((((((((((((((.\n"
     ]
    }
   ],
   "execution_count": 72
  },
  {
   "metadata": {},
   "cell_type": "markdown",
   "source": "Note: I implemented the methods in python in an ad-hoc manner for the specific problem I was facing because it was easier to implement. Using this codebase is not meant for general purpose problems, but the logic can still be gleaned from it for more general use cases.",
   "id": "47e38382a5cf15a3"
  }
 ],
 "metadata": {
  "kernelspec": {
   "display_name": "Python 3",
   "language": "python",
   "name": "python3"
  },
  "language_info": {
   "codemirror_mode": {
    "name": "ipython",
    "version": 2
   },
   "file_extension": ".py",
   "mimetype": "text/x-python",
   "name": "python",
   "nbconvert_exporter": "python",
   "pygments_lexer": "ipython2",
   "version": "2.7.6"
  }
 },
 "nbformat": 4,
 "nbformat_minor": 5
}
