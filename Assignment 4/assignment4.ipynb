{
 "cells": [
  {
   "metadata": {},
   "cell_type": "markdown",
   "source": [
    "# Assignment 4\n",
    "## Gal Dali"
   ],
   "id": "39f97c88ff1397ac"
  },
  {
   "metadata": {},
   "cell_type": "markdown",
   "source": "### Question 1",
   "id": "12c18f0f1ae16cd7"
  },
  {
   "metadata": {},
   "cell_type": "markdown",
   "source": [
    "### False Position Method Algorithm\n",
    "\n",
    "1. Stretch a line from $f(a)$ to $f(b)$ and find the intersection with the $x$-axis. Call this intersection point as $x_1$.\n",
    "2. If $f(x_1) = 0$ or $|f(x_1)| <= $ tolerance, return $x_1$ (we found the root with perfect/enough accuracy).\n",
    "3. Else, if $\\operatorname{sign}(f(x_1)) = \\operatorname{sign}(f(a))$, the root lies in the interval $[x_1, b]$, so set $a = x_1$ and go back to step 1.\n",
    "4. Else, if $\\operatorname{sign}(f(x_1)) = \\operatorname{sign}(f(b))$, the root lies in the interval $[a, x_1]$, so set $b = x_1$ and go back to step 1.\n"
   ],
   "id": "a1d015334649b412"
  },
  {
   "metadata": {
    "ExecuteTime": {
     "end_time": "2024-12-12T12:35:55.806772Z",
     "start_time": "2024-12-12T12:35:55.791751Z"
    }
   },
   "cell_type": "code",
   "source": [
    "# Helper methods\n",
    "get_slope_of_line = lambda x_1, x_2, f_x1, f_x2: (f_x2 - f_x1) / (x_2 - x_1)\n",
    "# for some values of a and b, ((a + b) / 2) will cause an overflow.\n",
    "# calculate the average of two numbers in a way that prevents overflow.\n",
    "# if a > b, calculate (a - b) / 2 + b.\n",
    "# if a < b, calculate (b - a) / 2 + a.\n",
    "# if a = b, returns a.\n",
    "# if a and b have different signs, calculate (a + b) / 2 as usual because there is no risk of overflow.\n",
    "find_avg = lambda x_1, x_2: ((x_1 - x_2) / 2 + x_2) if x_1 > x_2 else ((x_2 - x_1) / 2 + x_1) if x_1 < x_2 else x_1"
   ],
   "id": "305bf2eb9c6e1f2b",
   "outputs": [],
   "execution_count": 67
  },
  {
   "metadata": {},
   "cell_type": "markdown",
   "source": "#### Recursive solution",
   "id": "968b9af0ac52041"
  },
  {
   "metadata": {
    "ExecuteTime": {
     "end_time": "2024-12-12T12:35:55.838413Z",
     "start_time": "2024-12-12T12:35:55.824408Z"
    }
   },
   "cell_type": "code",
   "source": [
    "def regula_falsi_recursive(f: callable, a: float, b: float, eps: float, max_iter: int, verbose: bool = False,\n",
    "                           cur_iter: int = 0) -> tuple[float, int]:\n",
    "    \"\"\"\n",
    "    :param f: the function to find the root of.\n",
    "    :param a: the lower bound of the bracket.\n",
    "    :param b: the upper bound of the bracket.\n",
    "    :param eps: the accuracy tolerance.\n",
    "    :param max_iter: maximum number of iterations.\n",
    "    :param cur_iter: current iteration.\n",
    "    :param verbose: whether to print the intermediate results.\n",
    "    :return: the root of the function using the False Position Method & the number of iterations it ran.\n",
    "    \"\"\"\n",
    "    if cur_iter >= max_iter:\n",
    "        return a, (cur_iter + 1)\n",
    "\n",
    "    fa = f(a)\n",
    "    fb = f(b)\n",
    "\n",
    "    # This condition is to avoid division by zero or numerical instability by dividing by a very small number; this is also another breaking condition of the recursion (the algorithm assumes a valid input for a and b - there is a root between them & b > a)\n",
    "    if b - a <= eps:\n",
    "        return a, cur_iter + 1\n",
    "\n",
    "    # STEP 1:\n",
    "    slope = get_slope_of_line(a, b, fa, fb)\n",
    "    x1 = b - (fb / slope)\n",
    "\n",
    "    # STEP 2:\n",
    "    fx1 = f(x1)\n",
    "    if verbose:\n",
    "        print(\"Iteration:\", cur_iter + 1, end=\":\\t\")\n",
    "        print(f\"x1: {x1}, f(x1): {fx1}\")\n",
    "    if fx1 == 0 or abs(fx1) <= eps:\n",
    "        return x1, cur_iter + 1\n",
    "\n",
    "    # STEP 3:\n",
    "    if fx1 * fa > 0:\n",
    "        return regula_falsi_recursive(f, x1, b, eps, max_iter, verbose, cur_iter + 1)\n",
    "\n",
    "    # STEP 4:\n",
    "    if fx1 * fb > 0:\n",
    "        return regula_falsi_recursive(f, a, x1, eps, max_iter, verbose, cur_iter + 1)\n",
    "\n",
    "\n",
    "def call_regula_falsi_x_times \\\n",
    "                (f: callable, a: float, b: float, eps: float, max_iter: int, verbose: bool) -> tuple[float, int]:\n",
    "    return regula_falsi_recursive(f, a, b, eps, max_iter, verbose)"
   ],
   "id": "f0b7b72fc0ccdfd9",
   "outputs": [],
   "execution_count": 68
  },
  {
   "metadata": {},
   "cell_type": "markdown",
   "source": "#### Iterative solution",
   "id": "f35c2a0d2a2a2a7a"
  },
  {
   "metadata": {
    "ExecuteTime": {
     "end_time": "2024-12-12T12:35:55.872469Z",
     "start_time": "2024-12-12T12:35:55.854697Z"
    }
   },
   "cell_type": "code",
   "source": [
    "def regula_falsi_iterative(f: callable, a: float, b: float,\n",
    "                           eps: float, max_iter: int, verbose: bool = False) -> tuple[float, int]:\n",
    "    \"\"\"\n",
    "    :param f: the function to find the root of.\n",
    "    :param a: the lower bound of the bracket.\n",
    "    :param b: the upper bound of the bracket.\n",
    "    :param eps: the accuracy tolerance.\n",
    "    :param max_iter: maximum number of iterations.\n",
    "    :param verbose: whether to print the intermediate results.\n",
    "    :return: the root of the function using the False Position Method & the number of iterations it ran.\n",
    "    \"\"\"\n",
    "    for cur_iter in range(max_iter):\n",
    "        fa = f(a)\n",
    "        fb = f(b)\n",
    "\n",
    "        # This condition is to avoid division by zero or numerical instability by dividing by a very small number; this is also another breaking condition of the recursion (the algorithm assumes a valid input for a and b - there is a root between them & b > a)\n",
    "        if b - a <= eps:\n",
    "            return a, cur_iter + 1\n",
    "\n",
    "        # STEP 1:\n",
    "        slope = get_slope_of_line(a, b, fa, fb)\n",
    "        x1 = b - (fb / slope)\n",
    "\n",
    "        # STEP 2:\n",
    "        fx1 = f(x1)\n",
    "        if verbose:\n",
    "            print(\"Iteration:\", cur_iter + 1, end=\":\\t\")\n",
    "            print(f\"x1: {x1}, f(x1): {fx1}\")\n",
    "        if fx1 == 0 or abs(fx1) <= eps:\n",
    "            return x1\n",
    "\n",
    "        # STEP 3 & 4:\n",
    "        if fx1 * fa > 0:\n",
    "            a = x1\n",
    "        elif fx1 * fb > 0:  # must be elif because I am only allowed to change one of the bounds at a time.\n",
    "            b = x1"
   ],
   "id": "37012ea52f38df86",
   "outputs": [],
   "execution_count": 69
  },
  {
   "metadata": {},
   "cell_type": "markdown",
   "source": "#### Both solutions' output:",
   "id": "623adf337259a089"
  },
  {
   "metadata": {
    "ExecuteTime": {
     "end_time": "2024-12-12T12:35:55.903786Z",
     "start_time": "2024-12-12T12:35:55.888142Z"
    }
   },
   "cell_type": "code",
   "source": [
    "def f(x):\n",
    "    return x ** 2 - 1 / 2\n",
    "\n",
    "\n",
    "l = 0\n",
    "h = 1\n",
    "num_of_iterations = 4\n",
    "is_verbose = True\n",
    "tol = 1e-6\n",
    "\n",
    "print(\"\\033[1mRecursive solution:\\033[0;0m\")\n",
    "call_regula_falsi_x_times(f, l, h, tol, num_of_iterations, is_verbose)\n",
    "\n",
    "print(\"\\n\\033[1mIterative solution:\\033[0;0m\")\n",
    "regula_falsi_iterative(f, l, h, tol, num_of_iterations, is_verbose)\n",
    "# The actual answer is 1/sqrt(2) which is roughly 0.707106781"
   ],
   "id": "e45075597b57431f",
   "outputs": [
    {
     "name": "stdout",
     "output_type": "stream",
     "text": [
      "\u001B[1mRecursive solution:\u001B[0;0m\n",
      "Iteration: 1:\tx1: 0.5, f(x1): -0.25\n",
      "Iteration: 2:\tx1: 0.6666666666666667, f(x1): -0.05555555555555547\n",
      "Iteration: 3:\tx1: 0.7, f(x1): -0.010000000000000064\n",
      "Iteration: 4:\tx1: 0.7058823529411764, f(x1): -0.0017301038062284557\n",
      "\n",
      "\u001B[1mIterative solution:\u001B[0;0m\n",
      "Iteration: 1:\tx1: 0.5, f(x1): -0.25\n",
      "Iteration: 2:\tx1: 0.6666666666666667, f(x1): -0.05555555555555547\n",
      "Iteration: 3:\tx1: 0.7, f(x1): -0.010000000000000064\n",
      "Iteration: 4:\tx1: 0.7058823529411764, f(x1): -0.0017301038062284557\n"
     ]
    }
   ],
   "execution_count": 70
  },
  {
   "metadata": {},
   "cell_type": "markdown",
   "source": "### Question 2",
   "id": "e391bc43411e0d3"
  },
  {
   "metadata": {},
   "cell_type": "markdown",
   "source": [
    "### Bisection Method\n",
    "\n",
    "1. Define $x_1 = \\frac{a + b}{2}$. The mid-point of the interval.\n",
    "2. If $f(x_1) = 0$ or $|f(x_1)| <= $ tolerance, or $b - a <= $ tolerance, return $x_1$ (we found the root with perfect/enough accuracy).\n",
    "3. Else, if $\\operatorname{sign}(f(x_1)) = \\operatorname{sign}(f(a))$, the root lies in the interval $[x_1, b]$, so set $a = x_1$ and go back to step 1.\n",
    "4. Else, if $\\operatorname{sign}(f(x_1)) = \\operatorname{sign}(f(b))$, the root lies in the interval $[a, x_1]$, so set $b = x_1$ and go back to step 1.\n"
   ],
   "id": "3edfd97322436e8c"
  },
  {
   "metadata": {},
   "cell_type": "markdown",
   "source": "#### Recursive solution",
   "id": "ee57fd65fb756b29"
  },
  {
   "metadata": {
    "ExecuteTime": {
     "end_time": "2024-12-12T12:35:55.947966Z",
     "start_time": "2024-12-12T12:35:55.919403Z"
    }
   },
   "cell_type": "code",
   "source": [
    "# The recursive solution has the downside of being limited by the maximum recursion depth of the system.\n",
    "def bisection_recursive(f: callable, a: float, b: float, eps: float, max_iter: int, verbose: bool = False,\n",
    "                        cur_iter: int = 0) -> tuple[float, int]:\n",
    "    \"\"\"\n",
    "    :param f: the function to find the root of.\n",
    "    :param a: the lower bound of the bracket.\n",
    "    :param b: the upper bound of the bracket.\n",
    "    :param eps: the accuracy tolerance.\n",
    "    :param max_iter: maximum number of iterations.\n",
    "    :param cur_iter: current iteration.\n",
    "    :param verbose: whether to print the intermediate results.\n",
    "    :return: the root of the function using the False Position Method.\n",
    "    \"\"\"\n",
    "    if cur_iter >= max_iter:\n",
    "        return a, (cur_iter + 1)\n",
    "\n",
    "    fa = f(a)\n",
    "    fb = f(b)\n",
    "\n",
    "    # STEP 1:\n",
    "    x1 = find_avg(b, a)\n",
    "\n",
    "    # STEP 2:\n",
    "    fx1 = f(x1)\n",
    "    if verbose:\n",
    "        print(\"Iteration:\", cur_iter + 1, end=\":\\t\")\n",
    "        print(f\"x1: {x1}, f(x1): {fx1}\")\n",
    "    if fx1 == 0 or b - a <= eps:\n",
    "        return x1, cur_iter + 1\n",
    "\n",
    "    # STEP 3:\n",
    "    if fx1 * fa > 0:\n",
    "        return bisection_recursive(f, x1, b, eps, max_iter, verbose, cur_iter + 1)\n",
    "\n",
    "    # STEP 4:\n",
    "    if fx1 * fb > 0:\n",
    "        return bisection_recursive(f, a, x1, eps, max_iter, verbose, cur_iter + 1)\n",
    "\n",
    "\n",
    "def call_bisection_x_times(f: callable, a: float, b: float, eps: float, max_iter: int, verbose: bool) -> float:\n",
    "    return bisection_recursive(f, a, b, eps, max_iter, verbose)"
   ],
   "id": "248e1eb8c483ff2",
   "outputs": [],
   "execution_count": 71
  },
  {
   "metadata": {},
   "cell_type": "markdown",
   "source": "#### Iterative solution",
   "id": "2b144fbc992dd9ae"
  },
  {
   "metadata": {
    "ExecuteTime": {
     "end_time": "2024-12-12T12:35:55.988658Z",
     "start_time": "2024-12-12T12:35:55.964604Z"
    }
   },
   "cell_type": "code",
   "source": [
    "def bisection_iterative(f: callable, a: float, b: float, eps: float, max_iter: int, verbose: bool = False) -> tuple[\n",
    "    float, int]:\n",
    "    \"\"\"\n",
    "    :param f: the function to find the root of.\n",
    "    :param a: the lower bound of the bracket.\n",
    "    :param b: the upper bound of the bracket.\n",
    "    :param eps: the accuracy tolerance.\n",
    "    :param max_iter: maximum number of iterations.\n",
    "    :param verbose: whether to print the intermediate results.\n",
    "    :return: the root of the function using the False Position Method.\n",
    "    \"\"\"\n",
    "    for cur_iter in range(max_iter):\n",
    "        fa = f(a)\n",
    "        fb = f(b)\n",
    "\n",
    "        # STEP 1:\n",
    "        x1 = find_avg(b, a)\n",
    "\n",
    "        # STEP 2:\n",
    "        fx1 = f(x1)\n",
    "        if verbose:\n",
    "            print(\"Iteration:\", cur_iter + 1, end=\":\\t\")\n",
    "            print(f\"x1: {x1}, f(x1): {fx1}\")\n",
    "        if fx1 == 0 or b - a <= eps:\n",
    "            return x1, cur_iter + 1\n",
    "\n",
    "        # STEP 3 & 4:\n",
    "        if fx1 * fa > 0:\n",
    "            a = x1\n",
    "        elif fx1 * fb > 0:  # must be elif because I am only allowed to change one of the bounds at a time.\n",
    "            b = x1"
   ],
   "id": "4dbc75182dcadb0e",
   "outputs": [],
   "execution_count": 72
  },
  {
   "metadata": {},
   "cell_type": "markdown",
   "source": "#### Both solutions' output:",
   "id": "793e1bed9e03c4f5"
  },
  {
   "metadata": {
    "ExecuteTime": {
     "end_time": "2024-12-12T12:35:56.023838Z",
     "start_time": "2024-12-12T12:35:56.007597Z"
    }
   },
   "cell_type": "code",
   "source": [
    "def f(x):\n",
    "    return x ** 2 - 1 / 2\n",
    "\n",
    "\n",
    "l = 0\n",
    "h = 1\n",
    "num_of_iterations = 999\n",
    "is_verbose = True\n",
    "tol = 1e-10\n",
    "\n",
    "print(\"\\033[1mRecursive solution:\\033[0;0m\")\n",
    "call_bisection_x_times(f, l, h, tol, num_of_iterations, is_verbose)\n",
    "\n",
    "print(\"\\n\\033[1mIterative solution:\\033[0;0m\")\n",
    "bisection_iterative(f, l, h, tol, num_of_iterations, is_verbose)\n",
    "# The actual answer is 1/sqrt(2) which is roughly 0.707106781"
   ],
   "id": "9dd62112ba1d2e59",
   "outputs": [
    {
     "name": "stdout",
     "output_type": "stream",
     "text": [
      "\u001B[1mRecursive solution:\u001B[0;0m\n",
      "Iteration: 1:\tx1: 0.5, f(x1): -0.25\n",
      "Iteration: 2:\tx1: 0.75, f(x1): 0.0625\n",
      "Iteration: 3:\tx1: 0.625, f(x1): -0.109375\n",
      "Iteration: 4:\tx1: 0.6875, f(x1): -0.02734375\n",
      "Iteration: 5:\tx1: 0.71875, f(x1): 0.0166015625\n",
      "Iteration: 6:\tx1: 0.703125, f(x1): -0.005615234375\n",
      "Iteration: 7:\tx1: 0.7109375, f(x1): 0.00543212890625\n",
      "Iteration: 8:\tx1: 0.70703125, f(x1): -0.0001068115234375\n",
      "Iteration: 9:\tx1: 0.708984375, f(x1): 0.002658843994140625\n",
      "Iteration: 10:\tx1: 0.7080078125, f(x1): 0.0012750625610351562\n",
      "Iteration: 11:\tx1: 0.70751953125, f(x1): 0.0005838871002197266\n",
      "Iteration: 12:\tx1: 0.707275390625, f(x1): 0.0002384781837463379\n",
      "Iteration: 13:\tx1: 0.7071533203125, f(x1): 6.58184289932251e-05\n",
      "Iteration: 14:\tx1: 0.70709228515625, f(x1): -2.0500272512435913e-05\n",
      "Iteration: 15:\tx1: 0.707122802734375, f(x1): 2.2658146917819977e-05\n",
      "Iteration: 16:\tx1: 0.7071075439453125, f(x1): 1.078704372048378e-06\n",
      "Iteration: 17:\tx1: 0.7070999145507812, f(x1): -9.710842277854681e-06\n",
      "Iteration: 18:\tx1: 0.7071037292480469, f(x1): -4.31608350481838e-06\n",
      "Iteration: 19:\tx1: 0.7071056365966797, f(x1): -1.618693204363808e-06\n",
      "Iteration: 20:\tx1: 0.7071065902709961, f(x1): -2.699953256524168e-07\n",
      "Iteration: 21:\tx1: 0.7071070671081543, f(x1): 4.0435429582430515e-07\n",
      "Iteration: 22:\tx1: 0.7071068286895752, f(x1): 6.717942824252532e-08\n",
      "Iteration: 23:\tx1: 0.7071067094802856, f(x1): -1.0140796291580045e-07\n",
      "Iteration: 24:\tx1: 0.7071067690849304, f(x1): -1.7114270889351246e-08\n",
      "Iteration: 25:\tx1: 0.7071067988872528, f(x1): 2.5032577788408616e-08\n",
      "Iteration: 26:\tx1: 0.7071067839860916, f(x1): 3.95915322748408e-09\n",
      "Iteration: 27:\tx1: 0.707106776535511, f(x1): -6.577558886444734e-09\n",
      "Iteration: 28:\tx1: 0.7071067802608013, f(x1): -1.3092028572359027e-09\n",
      "Iteration: 29:\tx1: 0.7071067821234465, f(x1): 1.32497524063524e-09\n",
      "Iteration: 30:\tx1: 0.7071067811921239, f(x1): 7.886136188517412e-12\n",
      "Iteration: 31:\tx1: 0.7071067807264626, f(x1): -6.506583605236926e-10\n",
      "Iteration: 32:\tx1: 0.7071067809592932, f(x1): -3.21386084412012e-10\n",
      "Iteration: 33:\tx1: 0.7071067810757086, f(x1): -1.5674994635617168e-10\n",
      "Iteration: 34:\tx1: 0.7071067811339162, f(x1): -7.443190508382713e-11\n",
      "Iteration: 35:\tx1: 0.7071067811630201, f(x1): -3.327288444765486e-11\n",
      "\n",
      "\u001B[1mIterative solution:\u001B[0;0m\n",
      "Iteration: 1:\tx1: 0.5, f(x1): -0.25\n",
      "Iteration: 2:\tx1: 0.75, f(x1): 0.0625\n",
      "Iteration: 3:\tx1: 0.625, f(x1): -0.109375\n",
      "Iteration: 4:\tx1: 0.6875, f(x1): -0.02734375\n",
      "Iteration: 5:\tx1: 0.71875, f(x1): 0.0166015625\n",
      "Iteration: 6:\tx1: 0.703125, f(x1): -0.005615234375\n",
      "Iteration: 7:\tx1: 0.7109375, f(x1): 0.00543212890625\n",
      "Iteration: 8:\tx1: 0.70703125, f(x1): -0.0001068115234375\n",
      "Iteration: 9:\tx1: 0.708984375, f(x1): 0.002658843994140625\n",
      "Iteration: 10:\tx1: 0.7080078125, f(x1): 0.0012750625610351562\n",
      "Iteration: 11:\tx1: 0.70751953125, f(x1): 0.0005838871002197266\n",
      "Iteration: 12:\tx1: 0.707275390625, f(x1): 0.0002384781837463379\n",
      "Iteration: 13:\tx1: 0.7071533203125, f(x1): 6.58184289932251e-05\n",
      "Iteration: 14:\tx1: 0.70709228515625, f(x1): -2.0500272512435913e-05\n",
      "Iteration: 15:\tx1: 0.707122802734375, f(x1): 2.2658146917819977e-05\n",
      "Iteration: 16:\tx1: 0.7071075439453125, f(x1): 1.078704372048378e-06\n",
      "Iteration: 17:\tx1: 0.7070999145507812, f(x1): -9.710842277854681e-06\n",
      "Iteration: 18:\tx1: 0.7071037292480469, f(x1): -4.31608350481838e-06\n",
      "Iteration: 19:\tx1: 0.7071056365966797, f(x1): -1.618693204363808e-06\n",
      "Iteration: 20:\tx1: 0.7071065902709961, f(x1): -2.699953256524168e-07\n",
      "Iteration: 21:\tx1: 0.7071070671081543, f(x1): 4.0435429582430515e-07\n",
      "Iteration: 22:\tx1: 0.7071068286895752, f(x1): 6.717942824252532e-08\n",
      "Iteration: 23:\tx1: 0.7071067094802856, f(x1): -1.0140796291580045e-07\n",
      "Iteration: 24:\tx1: 0.7071067690849304, f(x1): -1.7114270889351246e-08\n",
      "Iteration: 25:\tx1: 0.7071067988872528, f(x1): 2.5032577788408616e-08\n",
      "Iteration: 26:\tx1: 0.7071067839860916, f(x1): 3.95915322748408e-09\n",
      "Iteration: 27:\tx1: 0.707106776535511, f(x1): -6.577558886444734e-09\n",
      "Iteration: 28:\tx1: 0.7071067802608013, f(x1): -1.3092028572359027e-09\n",
      "Iteration: 29:\tx1: 0.7071067821234465, f(x1): 1.32497524063524e-09\n",
      "Iteration: 30:\tx1: 0.7071067811921239, f(x1): 7.886136188517412e-12\n",
      "Iteration: 31:\tx1: 0.7071067807264626, f(x1): -6.506583605236926e-10\n",
      "Iteration: 32:\tx1: 0.7071067809592932, f(x1): -3.21386084412012e-10\n",
      "Iteration: 33:\tx1: 0.7071067810757086, f(x1): -1.5674994635617168e-10\n",
      "Iteration: 34:\tx1: 0.7071067811339162, f(x1): -7.443190508382713e-11\n",
      "Iteration: 35:\tx1: 0.7071067811630201, f(x1): -3.327288444765486e-11\n"
     ]
    },
    {
     "data": {
      "text/plain": [
       "(0.7071067811630201, 35)"
      ]
     },
     "execution_count": 73,
     "metadata": {},
     "output_type": "execute_result"
    }
   ],
   "execution_count": 73
  },
  {
   "metadata": {},
   "cell_type": "markdown",
   "source": [
    "#### Analytical calculation of run time\n",
    "\n",
    "$ \\text{The time complexity of the bisection method is } O(\\log_2(\\frac{b - a}{\\text{tol}})) \\text{ where } \\text{tol} \\text{ is the tolerance.} $\n",
    "$ \\text{From this, we inspect that the number of iterations we got: 35, is very close to the calculated value } \\log_2(\\frac{b - a}{\\text{tol}}).$  \n",
    "$ n = \\log_2(\\frac{1}{\\text{tol}}) = \\log_2(\\frac{1}{{10^{-10}}}) \\approx 33 \\text{. Which is very close to 35.}$"
   ],
   "id": "73aa3b0a2e53fa61"
  }
 ],
 "metadata": {
  "kernelspec": {
   "display_name": "Python 3",
   "language": "python",
   "name": "python3"
  },
  "language_info": {
   "codemirror_mode": {
    "name": "ipython",
    "version": 2
   },
   "file_extension": ".py",
   "mimetype": "text/x-python",
   "name": "python",
   "nbconvert_exporter": "python",
   "pygments_lexer": "ipython2",
   "version": "2.7.6"
  }
 },
 "nbformat": 4,
 "nbformat_minor": 5
}
