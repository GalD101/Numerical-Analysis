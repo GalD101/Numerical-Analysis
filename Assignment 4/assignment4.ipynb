{
 "cells": [
  {
   "metadata": {},
   "cell_type": "markdown",
   "source": [
    "# Assignment 4\n",
    "## Gal Dali"
   ],
   "id": "39f97c88ff1397ac"
  },
  {
   "metadata": {},
   "cell_type": "markdown",
   "source": "### Question 1",
   "id": "12c18f0f1ae16cd7"
  },
  {
   "metadata": {},
   "cell_type": "markdown",
   "source": [
    "### False Position Method Algorithm\n",
    "\n",
    "1. Stretch a line from $f(a)$ to $f(b)$ and find the intersection with the $x$-axis. Call this intersection point as $x_1$.\n",
    "2. If $f(x_1) = 0$ or $|f(x_1)| <= $ tolerance, return $x_1$ (we found the root with perfect/enough accuracy).\n",
    "3. Else, if $\\operatorname{sign}(f(x_1)) = \\operatorname{sign}(f(a))$, the root lies in the interval $[x_1, b]$, so set $a = x_1$ and go back to step 1.\n",
    "4. Otherwise, if $\\operatorname{sign}(f(x_1)) = \\operatorname{sign}(f(b))$, the root lies in the interval $[a, x_1]$, so set $b = x_1$ and go back to step 1.\n"
   ],
   "id": "a1d015334649b412"
  },
  {
   "metadata": {
    "ExecuteTime": {
     "end_time": "2024-12-12T11:40:39.209159Z",
     "start_time": "2024-12-12T11:40:39.193509Z"
    }
   },
   "cell_type": "code",
   "source": [
    "# Helper method\n",
    "get_slope_of_line = lambda x_1, x_2, f_x1, f_x2: (f_x2 - f_x1) / (x_2 - x_1)"
   ],
   "id": "305bf2eb9c6e1f2b",
   "outputs": [],
   "execution_count": 39
  },
  {
   "metadata": {},
   "cell_type": "markdown",
   "source": "#### Recursive solution",
   "id": "968b9af0ac52041"
  },
  {
   "metadata": {
    "ExecuteTime": {
     "end_time": "2024-12-12T11:40:39.240624Z",
     "start_time": "2024-12-12T11:40:39.209159Z"
    }
   },
   "cell_type": "code",
   "source": [
    "def regula_falsi_recursive(f: callable, a: float, b: float, eps: float, max_iter: int, verbose: bool = False,\n",
    "                           cur_iter: int = 0) -> float:\n",
    "    \"\"\"\n",
    "    :param f: the function to find the root of.\n",
    "    :param a: the lower bound of the bracket.\n",
    "    :param b: the upper bound of the bracket.\n",
    "    :param eps: the accuracy tolerance.\n",
    "    :param max_iter: maximum number of iterations.\n",
    "    :param cur_iter: current iteration.\n",
    "    :param verbose: whether to print the intermediate results.\n",
    "    :return: the root of the function using the False Position Method.\n",
    "    \"\"\"\n",
    "    if cur_iter >= max_iter:\n",
    "        return a\n",
    "\n",
    "    fa = f(a)\n",
    "    fb = f(b)\n",
    "\n",
    "    # This condition is to avoid division by zero or numerical instability by dividing by a very small number; this is also another breaking condition of the recursion (the algorithm assumes a valid input for a and b - there is a root between them & b > a)\n",
    "    if a == b or b - a <= eps:\n",
    "        return a\n",
    "\n",
    "    # STEP 1:\n",
    "    slope = get_slope_of_line(a, b, fa, fb)\n",
    "    x1 = b - (fb / slope)\n",
    "\n",
    "    # STEP 2:\n",
    "    fx1 = f(x1)\n",
    "    if verbose:\n",
    "        print(\"Iteration:\", cur_iter + 1, end=\":\\t\")\n",
    "        print(f\"x1: {x1}, f(x1): {fx1}\")\n",
    "    if fx1 == 0 or abs(fx1) <= eps:\n",
    "        return x1\n",
    "\n",
    "    # STEP 3:\n",
    "    if fx1 * fa > 0:\n",
    "        return regula_falsi_recursive(f, x1, b, eps, max_iter, verbose, cur_iter + 1)\n",
    "\n",
    "    # STEP 4:\n",
    "    if fx1 * fb > 0:\n",
    "        return regula_falsi_recursive(f, a, x1, eps, max_iter, verbose, cur_iter + 1)\n",
    "\n",
    "\n",
    "def call_regula_falsi_x_times(f: callable, a: float, b: float, eps: float, max_iter: int, verbose: bool) -> float:\n",
    "    return regula_falsi_recursive(f, a, b, eps, max_iter, verbose)"
   ],
   "id": "f0b7b72fc0ccdfd9",
   "outputs": [],
   "execution_count": 40
  },
  {
   "metadata": {},
   "cell_type": "markdown",
   "source": "#### Iterative solution",
   "id": "f35c2a0d2a2a2a7a"
  },
  {
   "metadata": {
    "ExecuteTime": {
     "end_time": "2024-12-12T11:40:39.271987Z",
     "start_time": "2024-12-12T11:40:39.256378Z"
    }
   },
   "cell_type": "code",
   "source": [
    "def regula_falsi_iterative(f: callable, a: float, b: float, eps: float, max_iter: int, verbose: bool = False) -> float:\n",
    "    \"\"\"\n",
    "    :param f: the function to find the root of.\n",
    "    :param a: the lower bound of the bracket.\n",
    "    :param b: the upper bound of the bracket.\n",
    "    :param eps: the accuracy tolerance.\n",
    "    :param max_iter: maximum number of iterations.\n",
    "    :param verbose: whether to print the intermediate results.\n",
    "    :return: the root of the function using the False Position Method.\n",
    "    \"\"\"\n",
    "    for cur_iter in range(max_iter):\n",
    "        fa = f(a)\n",
    "        fb = f(b)\n",
    "\n",
    "        # STEP 1:\n",
    "        slope = get_slope_of_line(a, b, fa, fb)\n",
    "        x1 = b - (fb / slope)\n",
    "\n",
    "        # STEP 2:\n",
    "        fx1 = f(x1)\n",
    "        if verbose:\n",
    "            print(\"Iteration:\", cur_iter + 1, end=\":\\t\")\n",
    "            print(f\"x1: {x1}, f(x1): {fx1}\")\n",
    "        if fx1 == 0 or abs(fx1) <= eps:\n",
    "            return x1\n",
    "\n",
    "        # STEP 3 & 4:\n",
    "        if fx1 * fa > 0:\n",
    "            a = x1\n",
    "        elif fx1 * fb > 0: # must be elif because I am only allowed to change one of the bounds at a time.\n",
    "            b = x1"
   ],
   "id": "37012ea52f38df86",
   "outputs": [],
   "execution_count": 41
  },
  {
   "metadata": {},
   "cell_type": "markdown",
   "source": "#### Both solutions' output:",
   "id": "623adf337259a089"
  },
  {
   "metadata": {
    "ExecuteTime": {
     "end_time": "2024-12-12T11:40:39.309314Z",
     "start_time": "2024-12-12T11:40:39.287583Z"
    }
   },
   "cell_type": "code",
   "source": [
    "def f(x):\n",
    "    return x ** 2 - 1 / 2\n",
    "\n",
    "\n",
    "l = 0\n",
    "h = 1\n",
    "num_of_iterations = 4\n",
    "is_verbose = True\n",
    "tol = 1e-6\n",
    "\n",
    "print(\"\\033[1mRecursive solution:\\033[0;0m\")\n",
    "call_regula_falsi_x_times(f, l, h, tol, num_of_iterations, is_verbose)\n",
    "\n",
    "print(\"\\n\\033[1mIterative solution:\\033[0;0m\")\n",
    "regula_falsi_iterative(f, l, h, tol, num_of_iterations, is_verbose)\n",
    "# The actual answer is 1/sqrt(2) which is roughly 0.707106781"
   ],
   "id": "e45075597b57431f",
   "outputs": [
    {
     "name": "stdout",
     "output_type": "stream",
     "text": [
      "\u001B[1mRecursive solution:\u001B[0;0m\n",
      "Iteration: 1:\tx1: 0.5, f(x1): -0.25\n",
      "Iteration: 2:\tx1: 0.6666666666666667, f(x1): -0.05555555555555547\n",
      "Iteration: 3:\tx1: 0.7, f(x1): -0.010000000000000064\n",
      "Iteration: 4:\tx1: 0.7058823529411764, f(x1): -0.0017301038062284557\n",
      "\n",
      "\u001B[1mIterative solution:\u001B[0;0m\n",
      "Iteration: 1:\tx1: 0.5, f(x1): -0.25\n",
      "Iteration: 2:\tx1: 0.6666666666666667, f(x1): -0.05555555555555547\n",
      "Iteration: 3:\tx1: 0.7, f(x1): -0.010000000000000064\n",
      "Iteration: 4:\tx1: 0.7058823529411764, f(x1): -0.0017301038062284557\n"
     ]
    }
   ],
   "execution_count": 42
  },
  {
   "metadata": {},
   "cell_type": "markdown",
   "source": "### Question 2",
   "id": "e391bc43411e0d3"
  }
 ],
 "metadata": {
  "kernelspec": {
   "display_name": "Python 3",
   "language": "python",
   "name": "python3"
  },
  "language_info": {
   "codemirror_mode": {
    "name": "ipython",
    "version": 2
   },
   "file_extension": ".py",
   "mimetype": "text/x-python",
   "name": "python",
   "nbconvert_exporter": "python",
   "pygments_lexer": "ipython2",
   "version": "2.7.6"
  }
 },
 "nbformat": 4,
 "nbformat_minor": 5
}
