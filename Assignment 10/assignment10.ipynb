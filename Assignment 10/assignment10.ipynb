{
 "cells": [
  {
   "metadata": {},
   "cell_type": "markdown",
   "source": [
    "# Assignment 10\n",
    "## Gal Dali"
   ],
   "id": "39f97c88ff1397ac"
  },
  {
   "metadata": {},
   "cell_type": "markdown",
   "source": "### Question 1",
   "id": "12c18f0f1ae16cd7"
  },
  {
   "metadata": {},
   "cell_type": "markdown",
   "source": "#### Monte - Carlo Method",
   "id": "43982875b896cfc0"
  },
  {
   "metadata": {},
   "cell_type": "markdown",
   "source": [
    "$ \\text{Ellipse: } $\n",
    "$ \\frac{x^2}{2^2} + \\frac{y^2}{3^2} = 1 $\n",
    "$ \\text{, Circle: } $\n",
    "$ x^2 + y^2 = 3^2 $\n",
    "\n",
    "$ \\sigma(x, y) = \\sigma_0 - y\\sqrt{x^2 + y^2} $\n",
    "\n",
    "$ \\sigma_0 = 3 \\text{ (in some units)} $\n",
    "\n",
    "$ N = 10^6  $\n",
    "\n",
    "$ \\vec{E} = \\iint_{S} dx~dy~\\sigma(x,y) \\frac{(x_{0}-x)\\hat{x}+(y_{0}-y)\\hat{y}+(z_{0}-z)\\hat{z}}{((x_{0}-x)^{2}+(y_{0}-y)^{2}+(z_{0}-z)^{2})^{\\frac{3}{2}}} $\n",
    "\n",
    "$ \\text{The question says these are three integrals, but I really don't understand why, it looks like only two integrals are in place over x and y } $\n",
    "\n",
    "$ \\text{Goal: Find $\\vec{E}$ at the point } (x_0, y_0, z_0) = (\\frac{1}{2}, 1, 1) $\n",
    "\n",
    "$ \\vec{E} = \\iint_{S} dx~dy~(\\sigma_0 - y\\sqrt{x^2 + y^2}) \\frac{(\\frac{1}{2}-x)\\hat{x}+(1-y)\\hat{y}+(1-z)\\hat{z}}{((\\frac{1}{2}-x)^{2}+(1-y)^{2}+(1-z)^{2})^{\\frac{3}{2}}} $\n",
    "\n",
    "$ \\text {NOTE: The question doesn't mention the coordinates of the circle's center. I assume it is located at (0, 0)} $"
   ],
   "id": "b85b84dc352f4386"
  },
  {
   "metadata": {
    "ExecuteTime": {
     "end_time": "2025-01-17T09:24:35.580618Z",
     "start_time": "2025-01-17T09:24:33.761060Z"
    }
   },
   "cell_type": "code",
   "source": [
    "import numpy as np\n",
    "import matplotlib.pyplot as plt"
   ],
   "id": "2143bb16c0a39d70",
   "outputs": [],
   "execution_count": 1
  },
  {
   "metadata": {
    "ExecuteTime": {
     "end_time": "2025-01-17T09:24:36.098401Z",
     "start_time": "2025-01-17T09:24:35.601330Z"
    }
   },
   "cell_type": "code",
   "source": [
    "N = 1_000_000\n",
    "square_area = 6 * 6\n",
    "pre_factor = square_area / N\n",
    "x, y = 6 * np.random.rand(2, N) - 3\n",
    "\n",
    "\n",
    "def f(x, y):\n",
    "    sigma_0 = 3\n",
    "    x0, y0, z0 = 0.5, 1, 1\n",
    "    z = 0\n",
    "\n",
    "    # you wrote 3 instead of 9 (3^2) in the notes, and I scratched my head for a long time trying to figure out where is the bug!\n",
    "    inside_circle = x ** 2 + y ** 2 <= 3 ** 2\n",
    "    outside_ellipse = (x ** 2) / (2 ** 2) + (y ** 2) / (3 ** 2) > 1\n",
    "\n",
    "    if inside_circle and outside_ellipse:\n",
    "        sigma = sigma_0 - y * np.sqrt(x ** 2 + y ** 2)\n",
    "        denominator = np.power((x0 - x) ** 2 + (y0 - y) ** 2 + (z0 - z) ** 2, 1.5)\n",
    "        return (sigma * (x0 - x) / denominator,\n",
    "                sigma * (y0 - y) / denominator,\n",
    "                sigma * (z0 - z) / denominator)\n",
    "    else:\n",
    "        return 0, 0, 0"
   ],
   "id": "bbd35a79869c5d9c",
   "outputs": [],
   "execution_count": 2
  },
  {
   "metadata": {
    "ExecuteTime": {
     "end_time": "2025-01-17T09:24:43.387710Z",
     "start_time": "2025-01-17T09:24:36.900770Z"
    }
   },
   "cell_type": "code",
   "source": [
    "E = np.array([f(x[i], y[i]) for i in range(N)])\n",
    "E_x, E_y, E_z = zip(*E)  # split into components\n",
    "\n",
    "# sum each term (each integral? I think now I understand why you said 3 integrals, but it still feels weird) and multiply by the pre-factor\n",
    "E_x = np.cumsum(E_x) * pre_factor\n",
    "E_y = np.cumsum(E_y) * pre_factor\n",
    "E_z = np.cumsum(E_z) * pre_factor\n",
    "\n",
    "# combine the results\n",
    "E = np.array(list(zip(E_x, E_y, E_z)))"
   ],
   "id": "7e16574e49bee33f",
   "outputs": [],
   "execution_count": 3
  },
  {
   "metadata": {
    "ExecuteTime": {
     "end_time": "2025-01-17T09:24:43.427242Z",
     "start_time": "2025-01-17T09:24:43.418843Z"
    }
   },
   "cell_type": "code",
   "source": [
    "# Final converged values (last values in each component)\n",
    "E_x_final = E_x[-1]\n",
    "E_y_final = E_y[-1]\n",
    "E_z_final = E_z[-1]\n",
    "\n",
    "# More accurate results\n",
    "E_x_exact = -0.170\n",
    "E_y_exact = 1.928\n",
    "E_z_exact = 0.521\n",
    "\n",
    "print(\"The electric field at point (x0, y0, z0) = (0.5, 1, 1) is: \" +\n",
    "      str(E_x_final) + \"i\\u0302 + \" + str(E_y_final) + \"j\\u0302 + \" + str(E_z_final) + \"k\\u0302\")"
   ],
   "id": "af7271d8a01b85c0",
   "outputs": [
    {
     "name": "stdout",
     "output_type": "stream",
     "text": [
      "The electric field at point (x0, y0, z0) = (0.5, 1, 1) is: -0.15497045312628155î + 2.5683323183018696ĵ + 0.5238127489142315k̂\n"
     ]
    }
   ],
   "execution_count": 4
  },
  {
   "metadata": {
    "ExecuteTime": {
     "end_time": "2025-01-17T09:24:50.300661Z",
     "start_time": "2025-01-17T09:24:43.485807Z"
    }
   },
   "cell_type": "code",
   "source": [
    "# Plot convergence. The instructions said I should start from a specific N, but that doesn't make it look any different\n",
    "plt.figure(figsize=(10, 6))\n",
    "plt.plot(range(1, N + 1), E_x, label=\"$E_x$\")\n",
    "plt.plot(range(1, N + 1), E_y, label=\"$E_y$\")\n",
    "plt.plot(range(1, N + 1), E_z, label=\"$E_z$\")\n",
    "plt.axhline(E_x[-1], color='blue', linestyle='--', label=f\"$E_x = {E_x_exact:.3f}$\")\n",
    "plt.axhline(E_y[-1], color='orange', linestyle='--', label=f\"$E_y = {E_y_exact:.3f}$\")\n",
    "plt.axhline(E_z[-1], color='green', linestyle='--', label=f\"$E_z = {E_z_exact:.3f}$\")\n",
    "plt.xlabel(\"N\")\n",
    "plt.ylabel(\"Electric Field Components\")\n",
    "plt.title(\"Convergence of Electric Field Components\")\n",
    "plt.legend()\n",
    "plt.grid()\n",
    "plt.show()"
   ],
   "id": "96a6ec95287fd7c2",
   "outputs": [
    {
     "name": "stderr",
     "output_type": "stream",
     "text": [
      "\n",
      "KeyboardInterrupt\n",
      "\n"
     ]
    }
   ],
   "execution_count": 5
  },
  {
   "metadata": {},
   "cell_type": "markdown",
   "source": "### Question 2",
   "id": "516cf88f39c00bef"
  },
  {
   "metadata": {},
   "cell_type": "markdown",
   "source": "#### Ising Model and Metropolis Algorithm",
   "id": "994c150c1550f999"
  },
  {
   "metadata": {},
   "cell_type": "markdown",
   "source": [
    "$ H = -J \\sum_{i, j} s_is_j - B \\sum_i si $\n",
    "\n",
    "$ \\text{In our model, we will assume the interaction is only between adjacent particles. Adjacent means either above, below, to the left, or to the right} $\n",
    "\n",
    "$ B = 0, J = 1, L = 32 $"
   ],
   "id": "ef19890592b98296"
  },
  {
   "metadata": {},
   "cell_type": "markdown",
   "source": "#### Part A: $K_BT = 1 $ (in some arbitrary unit scale)",
   "id": "9b10bf8ade51e26b"
  },
  {
   "metadata": {},
   "cell_type": "markdown",
   "source": [
    "#### The Metropolis Algorithm:\n",
    "TODO: COMPLETE THIS LATER\n",
    "$ \\text{0. Initialize $i = 0$} $\n",
    "\n",
    "$ \\text{1. Choose a random spin for every particle in the grid. Label this as state $\\sigma_0$} $\n",
    "\n",
    "$ \\text{2. Randomly select one particle (uniformly) } $\n",
    "\n",
    "$ \\text{‎ ‎ ‎ ‎ ‎ Increment i } $"
   ],
   "id": "6e4fdb2900f734f0"
  },
  {
   "metadata": {},
   "cell_type": "code",
   "outputs": [],
   "execution_count": null,
   "source": [
    "K_BT = 1\n",
    "beta = 1 / K_BT"
   ],
   "id": "ad5335f3752e7bca"
  },
  {
   "metadata": {
    "ExecuteTime": {
     "end_time": "2025-01-17T09:24:50.366832400Z",
     "start_time": "2025-01-16T19:31:23.564618Z"
    }
   },
   "cell_type": "code",
   "outputs": [],
   "execution_count": 8,
   "source": [
    "B = 0\n",
    "J = 1\n",
    "L = 2\n",
    "N = 200_000\n",
    "\n",
    "def move(grid) -> tuple[int, int, list]:  # return (spin, accept\\reject)\n",
    "    flip_probability = 0.5\n",
    "\n",
    "    # Choose a random particle\n",
    "    row = np.random.uniform(0, L)\n",
    "    col = np.random.uniform(0, L)\n",
    "\n",
    "    # Calculate adjacent spins\n",
    "    spin_above = grid[row - 1][col] if (row != 0) else 0\n",
    "    spin_below = grid[row + 1][col] if (row + 1 != L) else 0\n",
    "    spin_left = grid[row][col - 1] if (col != 0) else 0\n",
    "    spin_right = grid[row][col + 1] if (col + 1 != L) else 0\n",
    "\n",
    "    spin_neighbors = [spin_above, spin_below, spin_left, spin_right]\n",
    "\n",
    "    # I only need the sum of the neighboring spins\n",
    "    sum_spins_neighbors = sum(spin_neighbors)\n",
    "\n",
    "    # To flip or not to flip?\n",
    "    mu = np.random.rand()\n",
    "    flip = mu < flip_probability\n",
    "\n",
    "    if flip:\n",
    "        # trick to calculate the total change in energy\n",
    "        # neat way to change -1 to 1 and vice versa\n",
    "        return 2 * grid[row][col] * sum_spins_neighbors, grid[row][col] - 2 * grid[row][col], [row, col]\n",
    "\n",
    "    return 0, grid[row][col], [row, col]\n",
    "\n",
    "# Initialize the grid\n",
    "grid = np.random.choice([-1, 1], (L, L))\n",
    "\n",
    "# Find initial energy\n",
    "initial_energy = -B * np.sum(grid)\n",
    "for i in range(N):\n",
    "    for j in range(N):\n",
    "        current_spin = grid[i][j]\n",
    "        \n",
    "        # only count the spins to the right and below to avoid counting twice\n",
    "        # (my right is your left and if I am above you, you are below me)\n",
    "        right_spin = grid[i][j + 1] if (j + 1 != L) else 0\n",
    "        below_spin = grid[i + 1][j] if (i + 1 != L) else 0\n",
    "        \n",
    "        initial_energy -= J * (current_spin * right_spin)\n",
    "        initial_energy -= J * (current_spin * below_spin)\n",
    "\n",
    "final_energy = initial_energy\n",
    "\n",
    "# The Metropolis algorithm\n",
    "for i in range(N):\n",
    "    delta_E, new_spin, [row, col] = move(grid)\n",
    "    if delta_E > 0:\n",
    "            p = np.exp(-beta * delta_E) # Physical probability to change (Boltzmann)\n",
    "            alpha = np.random.rand()\n",
    "\n",
    "            if alpha < p:\n",
    "                final_energy += delta_E\n",
    "                grid[row][col] = new_spin"
   ],
   "id": "f18e6a7228fbb7a2"
  },
  {
   "metadata": {
    "ExecuteTime": {
     "end_time": "2025-01-17T09:24:50.366832400Z",
     "start_time": "2025-01-16T19:41:17.864910Z"
    }
   },
   "cell_type": "code",
   "source": "grid",
   "id": "b47bf3113e9af706",
   "outputs": [
    {
     "data": {
      "text/plain": [
       "array([[ 1,  1],\n",
       "       [-1,  1]])"
      ]
     },
     "execution_count": 23,
     "metadata": {},
     "output_type": "execute_result"
    }
   ],
   "execution_count": 23
  },
  {
   "metadata": {
    "ExecuteTime": {
     "end_time": "2025-01-17T09:24:50.404444800Z",
     "start_time": "2025-01-16T19:41:19.215118Z"
    }
   },
   "cell_type": "code",
   "source": [
    "print(grid[0][0])\n",
    "grid[0][0] = grid[0][0] - 2 * grid[0][0]\n",
    "print(grid[0][0])"
   ],
   "id": "3317ec82225cf8a8",
   "outputs": [
    {
     "name": "stdout",
     "output_type": "stream",
     "text": [
      "1\n",
      "-1\n"
     ]
    }
   ],
   "execution_count": 24
  },
  {
   "metadata": {
    "ExecuteTime": {
     "end_time": "2025-01-17T09:24:50.404444800Z",
     "start_time": "2025-01-16T19:41:19.885145Z"
    }
   },
   "cell_type": "code",
   "source": "grid",
   "id": "9b6e2a71de9fa981",
   "outputs": [
    {
     "data": {
      "text/plain": [
       "array([[-1,  1],\n",
       "       [-1,  1]])"
      ]
     },
     "execution_count": 25,
     "metadata": {},
     "output_type": "execute_result"
    }
   ],
   "execution_count": 25
  }
 ],
 "metadata": {
  "kernelspec": {
   "display_name": "Python 3",
   "language": "python",
   "name": "python3"
  },
  "language_info": {
   "codemirror_mode": {
    "name": "ipython",
    "version": 2
   },
   "file_extension": ".py",
   "mimetype": "text/x-python",
   "name": "python",
   "nbconvert_exporter": "python",
   "pygments_lexer": "ipython2",
   "version": "2.7.6"
  }
 },
 "nbformat": 4,
 "nbformat_minor": 5
}
