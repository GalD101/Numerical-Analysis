{
 "cells": [
  {
   "metadata": {},
   "cell_type": "markdown",
   "source": [
    "# Assignment 2\n",
    "## Gal Dali"
   ],
   "id": "39f97c88ff1397ac"
  },
  {
   "metadata": {},
   "cell_type": "markdown",
   "source": "### Question 1",
   "id": "12c18f0f1ae16cd7"
  },
  {
   "metadata": {},
   "cell_type": "markdown",
   "source": [
    "$\\text{The error is defined as the real value of the calculation minus the value we calculated numerically. For the trapezium rule, we write:}$  \n",
    "\n",
    "$$\n",
    "\\text{Error} = \\int_{x}^{x+h} f(x) \\, dx - h \\cdot \\left( \\frac{f(x) + f(x+h)}{2} \\right)\n",
    "$$\n",
    "\n",
    "$\\text{Solving the integral (using the fundamental theorem of calculus) gives:}$  \n",
    "\n",
    "$$\n",
    "\\text{Error} = \\left[ F(x+h) - F(x) \\right] - h \\cdot \\left( \\frac{f(x) + f(x+h)}{2} \\right)\n",
    "$$\n",
    "\n",
    "$\\text{Where } F(x) \\text{ is the antiderivative of } f(x) \\text{.}$  \n",
    "\n",
    "$\\text{Now let us write F(x + h) as a taylor expansion near h:}$  \n",
    "\n",
    "$$\n",
    "F(x+h) = F(x) + h \\cdot F'(x) + \\frac{h^2}{2} \\cdot F''(x) + O(h^3)\n",
    "$$\n",
    "\n",
    "$\\text{Using the fact that F'(x) = f(x) and F''(x) = f'(x), we get:}$  \n",
    "\n",
    "$$\n",
    "F(x+h) = F(x) + h \\cdot f(x) + \\frac{h^2}{2} \\cdot f'(x) + O(h^3)\n",
    "$$\n",
    "\n",
    "$\\text{Plugging this into the error formula gives:}$  \n",
    "\n",
    "$$\n",
    "\\text{Error} = \\left[ F(x) + h \\cdot f(x) + \\frac{h^2}{2} \\cdot f'(x) + O(h^3) - F(x) \\right] - h \\cdot \\left( \\frac{f(x) + f(x+h)}{2} \\right)\n",
    "$$\n",
    "\n",
    "$\\text{Similar to the derivation for the rectangular rule we derived in the exercise, some terms cancel:}$\n",
    "\n",
    "$$\n",
    "\\text{Error} = h \\cdot f(x) + \\frac{h^2}{2} \\cdot f'(x) + O(h^3) - h \\cdot \\left( \\frac{f(x) + f(x+h)}{2} \\right)\n",
    "$$\n",
    "\n",
    "$\\text{Now we cal also write } f(x+h) \\text{ as a taylor expansion near h:}$\n",
    "\n",
    "$$\n",
    "f(x+h) = f(x) + h \\cdot f'(x) + \\frac{h^2}{2} \\cdot f''(x) + O(h^3)\n",
    "$$\n",
    "\n",
    "$\\text{Plugging this in gives:}$\n",
    "\n",
    "$$\n",
    "\\text{Error} = h \\cdot f(x) + \\frac{h^2}{2} \\cdot f'(x) + O(h^3) - h \\cdot \\left( \\frac{f(x) + f(x) + h \\cdot f'(x) + \\frac{h^2}{2} \\cdot f''(x) + O(h^3)}{2} \\right) = h \\cdot f(x) + \\frac{h^2}{2} \\cdot f'(x) + O(h^3) - h \\cdot f(x) - h \\cdot \\frac{h}{2} \\cdot f'(x) - h \\cdot \\frac{h^2}{4} \\cdot f''(x) - h \\cdot O(h^3)\n",
    "$$\n",
    "\n",
    "$\\text{After canceling some terms we obtain:}$\n",
    "\n",
    "$$\n",
    "\\text{Error} = -\\frac{h^3}{4} \\cdot f''(x) + O(h^3) \\in O(h^3)\n",
    "$$\n",
    "\n",
    "$\\text{This is the error per section. The error for the entire integral is the error per section times the number of sections N and } N \\propto \\frac{1}{h}$\n",
    "\n",
    "$\\text{So the over all error is:} O(h^3) * \\frac{1}{h} \\in O(n^2)$  \n",
    "$\\blacksquare$"
   ],
   "id": "f418e6aed094d3e6"
  },
  {
   "metadata": {},
   "cell_type": "markdown",
   "source": "### Question 2",
   "id": "ef3c46c2821c1799"
  },
  {
   "metadata": {},
   "cell_type": "markdown",
   "source": [
    "#### Part A:\n",
    "$$\n",
    "\\int_{0}^{1} \\frac {ln^3(1+x)}{x^{1/3}} \\, dx\n",
    "$$\n",
    "\n",
    "$\\text{We will define h = 1/4 and use the following formula from the exercise sheet: } S = h(f_{0.5} +f_{1.5} + ... + f_{N-1.5} + f_{N-0.5})$\n",
    "\n",
    "$\\text{So in our case: } a = 0, b = 1 \\text{ and } S = \\frac{1}{4} \\left(f(0 + 0.5 \\cdot \\frac{1}{4}) + f(0 + 1.5 \\cdot \\frac{1}{4}) + f(0 + 2.5 \\cdot \\frac{1}{4}) + f(1 - 0.5 \\cdot \\frac{1}{4}) \\right) \\text{ where } f \\text{ is the integrand; } f(x) = \\frac {ln^3(1+x)}{x^{1/3}} \\$\n",
    "\n",
    "$\\text{I will calculate each one of the four points and plug in the formula:}$\n",
    "\n",
    "$f(0.5 \\cdot \\frac{1}{4}) = \\frac {ln^3(1+0.5 \\cdot \\frac{1}{4})}{(0.5 \\cdot \\frac{1}{4})^{1/3}} = \\frac {ln^3(1.125)}{0.125^{1/3}} \\approx 0.003268$  \n",
    "$f(1.5 \\cdot \\frac{1}{4}) = \\frac {ln^3(1+1.5 \\cdot \\frac{1}{4})}{(1.5 \\cdot \\frac{1}{4})^{1/3}} = \\frac {ln^3(1.375)}{0.375^{1/3}} \\approx 0.044785$  \n",
    "$f(2.5 \\cdot \\frac{1}{4}) = \\frac {ln^3(1+2.5 \\cdot \\frac{1}{4})}{(2.5 \\cdot \\frac{1}{4})^{1/3}} = \\frac {ln^3(1.625)}{0.625^{1/3}} \\approx 0.133853$  \n",
    "$f(1- 0.5 \\cdot \\frac{1}{4}) = \\frac {ln^3(1 + 1 - 0.5 \\cdot \\frac{1}{4})}{(1 - 0.5 \\cdot \\frac{1}{4})^{1/3}} = \\frac {ln^3(1.875)}{0.875^{1/3}} \\approx 0.2597$  \n",
    "\n",
    "$\\text{I get: } S = \\frac{1}{4} \\left(0.003268 + 0.044785 + 0.133853 + 0.2597 \\right) \\approx 0.1104015$  \n",
    "$\\text{The actual result is } 0.112031 \\text{ so the approximation is pretty good!}$\n"
   ],
   "id": "ff83c8b8e5d698a8"
  },
  {
   "metadata": {},
   "cell_type": "markdown",
   "source": [
    "#### Part B:\n",
    "$\\text{In order to increase our accuracy whilst keeping minimal number of additional calculations, we'd want to divide the interval to be of } \\frac {h}{3} \\text{and we will begin from } \\frac {h}{6}. \\text{So we will use the points: } f_{1/6}, f_{1/2}, f{5/6}, f{7/6}, f{3/2}, ...$  \n",
    "$\\text{Notice that we already calculated } f_{1/2} \\text{ and } f_{3/2} \\text{ so we don't have to compute these points again!}$  \n",
    "$\\text{In general, for the aforementioned method we will calculate } 2N \\text{ additional points and our error will be 9 times smaller.}$  \n",
    "\n",
    "$\\text{If we will apply the aforementioned technique to our example, we will get:}$\n",
    "\n",
    "#TODO THIS LATER\n"
   ],
   "id": "e22288bf94ac9527"
  },
  {
   "metadata": {},
   "cell_type": "markdown",
   "source": "### Question 3",
   "id": "6894170d0e46966f"
  },
  {
   "metadata": {
    "ExecuteTime": {
     "end_time": "2024-11-25T15:15:11.851088Z",
     "start_time": "2024-11-25T15:15:09.872270Z"
    }
   },
   "cell_type": "code",
   "source": [
    "import numpy as np\n",
    "import matplotlib.pyplot as plt"
   ],
   "id": "e134cb99e039cf40",
   "outputs": [],
   "execution_count": 3
  },
  {
   "metadata": {},
   "cell_type": "markdown",
   "source": "#### Trapezium Rule:",
   "id": "bff86f3aa6028ffe"
  },
  {
   "metadata": {
    "ExecuteTime": {
     "end_time": "2024-11-25T15:45:51.722219Z",
     "start_time": "2024-11-25T15:45:51.675342Z"
    }
   },
   "cell_type": "code",
   "source": [
    "# My solution:\n",
    "def integral_solve_using_trapezium_rule(f, a, b, N):\n",
    "    h = (b - a) / N  # Assume valid input\n",
    "    s = f(a) / 2\n",
    "    for i in range(1, N):\n",
    "        s += f(a + h * i)\n",
    "    s += f(b) / 2\n",
    "    s *= h\n",
    "    return s\n",
    "\n",
    "\n",
    "# Solution according to the notebook I was given:\n",
    "def integral_trapez(f, a, b, N):\n",
    "    h = (b - a) / N\n",
    "    t = np.linspace(a, b, N + 1)  # N+1 points for N segments\n",
    "    y = f(t)  # the value of the function at these points\n",
    "    S = (0.5 * (y[0] + y[N])) + y[1:N].sum()\n",
    "    I = h * S\n",
    "    return I"
   ],
   "id": "358a47ecc75183d5",
   "outputs": [],
   "execution_count": 18
  },
  {
   "metadata": {},
   "cell_type": "markdown",
   "source": "#### Romberg's Method:",
   "id": "fe42db33a274d580"
  },
  {
   "metadata": {
    "ExecuteTime": {
     "end_time": "2024-11-25T15:45:53.665904Z",
     "start_time": "2024-11-25T15:45:53.634642Z"
    }
   },
   "cell_type": "code",
   "source": [
    "# My solution:\n",
    "def integral_solve_using_romberg_method(f, a, b, N):\n",
    "    h = (b - a) / N  # Assume valid input\n",
    "\n",
    "    # Calculate S_n\n",
    "    s_n = integral_solve_using_trapezium_rule(f, a, b, N)\n",
    "\n",
    "    # Calculate S_2n\n",
    "    s_2n = integral_solve_using_trapezium_rule(f, a, b, 2 * N)\n",
    "\n",
    "    # Calculate the solution according to the formula in the exercise sheet\n",
    "    solution = (4 / 3) * s_2n - (1 / 3) * s_n  # + O(h^4)\n",
    "    return solution\n",
    "\n",
    "\n",
    "# Solution according to the notebook I was given:\n",
    "def integral_romberg(f, a, b, N):\n",
    "    h = (b - a) / N\n",
    "    t = np.linspace(a, b, 2 * N + 1)\n",
    "    y = f(t)\n",
    "\n",
    "    # y1 are the points on the edges of the N segments.\n",
    "    y1 = y[0:2 * N + 1:2]  # Slicing: y[start:stop_before:step]\n",
    "    # y2 are the points we add in the middle of each segment, to get 2N segments.\n",
    "    y2 = y[1:2 * N:2]  # Slicing: y[start:stop_before:step]\n",
    "\n",
    "    SN = sum(y1) - 0.5 * (y1[0] + y1[-1])  # Sum of the points for the first trapezoidal integral\n",
    "    S2N = SN + sum(y2)\n",
    "\n",
    "    IN = h * SN\n",
    "    I2N = 0.5 * h * S2N\n",
    "\n",
    "    I = (4 / 3) * I2N - (1 / 3) * IN\n",
    "    return I"
   ],
   "id": "7d5715d8d8c478b",
   "outputs": [],
   "execution_count": 19
  },
  {
   "metadata": {},
   "cell_type": "markdown",
   "source": "### Question 4",
   "id": "8d098d4fd5356df9"
  },
  {
   "metadata": {
    "ExecuteTime": {
     "end_time": "2024-11-25T15:45:57.087402Z",
     "start_time": "2024-11-25T15:45:56.461669Z"
    }
   },
   "cell_type": "code",
   "source": [
    "# Define the Integrand and the interval of integration for the question\n",
    "def integrand(x):\n",
    "    return np.exp(x)\n",
    "\n",
    "a = 0\n",
    "b = 1\n",
    "\n",
    "answers_using_trapezium_rule = [integral_solve_using_trapezium_rule(integrand, a, b, 2 ** k) for k in range(2, 8 + 1)]\n",
    "answers_using_romberg_method = [integral_solve_using_romberg_method(integrand, a, b, 2 ** k) for k in range(2, 8 + 1)]\n",
    "accurate_answer = "
   ],
   "id": "42fa333df4f7f992",
   "outputs": [
    {
     "ename": "NameError",
     "evalue": "name 'solve_using_trapezium_rule' is not defined",
     "output_type": "error",
     "traceback": [
      "\u001B[1;31m---------------------------------------------------------------------------\u001B[0m",
      "\u001B[1;31mNameError\u001B[0m                                 Traceback (most recent call last)",
      "Cell \u001B[1;32mIn[20], line 8\u001B[0m\n\u001B[0;32m      5\u001B[0m a \u001B[38;5;241m=\u001B[39m \u001B[38;5;241m0\u001B[39m\n\u001B[0;32m      6\u001B[0m b \u001B[38;5;241m=\u001B[39m \u001B[38;5;241m1\u001B[39m\n\u001B[1;32m----> 8\u001B[0m answers_using_trapezium_rule \u001B[38;5;241m=\u001B[39m [solve_using_trapezium_rule(integrand, a, b, \u001B[38;5;241m2\u001B[39m \u001B[38;5;241m*\u001B[39m\u001B[38;5;241m*\u001B[39m k) \u001B[38;5;28;01mfor\u001B[39;00m k \u001B[38;5;129;01min\u001B[39;00m \u001B[38;5;28mrange\u001B[39m(\u001B[38;5;241m2\u001B[39m, \u001B[38;5;241m8\u001B[39m \u001B[38;5;241m+\u001B[39m \u001B[38;5;241m1\u001B[39m)]\n",
      "Cell \u001B[1;32mIn[20], line 8\u001B[0m, in \u001B[0;36m<listcomp>\u001B[1;34m(.0)\u001B[0m\n\u001B[0;32m      5\u001B[0m a \u001B[38;5;241m=\u001B[39m \u001B[38;5;241m0\u001B[39m\n\u001B[0;32m      6\u001B[0m b \u001B[38;5;241m=\u001B[39m \u001B[38;5;241m1\u001B[39m\n\u001B[1;32m----> 8\u001B[0m answers_using_trapezium_rule \u001B[38;5;241m=\u001B[39m [\u001B[43msolve_using_trapezium_rule\u001B[49m(integrand, a, b, \u001B[38;5;241m2\u001B[39m \u001B[38;5;241m*\u001B[39m\u001B[38;5;241m*\u001B[39m k) \u001B[38;5;28;01mfor\u001B[39;00m k \u001B[38;5;129;01min\u001B[39;00m \u001B[38;5;28mrange\u001B[39m(\u001B[38;5;241m2\u001B[39m, \u001B[38;5;241m8\u001B[39m \u001B[38;5;241m+\u001B[39m \u001B[38;5;241m1\u001B[39m)]\n",
      "\u001B[1;31mNameError\u001B[0m: name 'solve_using_trapezium_rule' is not defined"
     ]
    }
   ],
   "execution_count": 20
  }
 ],
 "metadata": {
  "kernelspec": {
   "display_name": "Python 3",
   "language": "python",
   "name": "python3"
  },
  "language_info": {
   "codemirror_mode": {
    "name": "ipython",
    "version": 2
   },
   "file_extension": ".py",
   "mimetype": "text/x-python",
   "name": "python",
   "nbconvert_exporter": "python",
   "pygments_lexer": "ipython2",
   "version": "2.7.6"
  }
 },
 "nbformat": 4,
 "nbformat_minor": 5
}
