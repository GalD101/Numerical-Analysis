{
 "cells": [
  {
   "metadata": {},
   "cell_type": "markdown",
   "source": [
    "# Assignment 2\n",
    "## Gal Dali"
   ],
   "id": "39f97c88ff1397ac"
  },
  {
   "metadata": {},
   "cell_type": "markdown",
   "source": "### Question 1",
   "id": "12c18f0f1ae16cd7"
  },
  {
   "metadata": {},
   "cell_type": "markdown",
   "source": [
    "$\\text{The error is defined as the real value of the calculation minus the value we calculated numerically. For the trapezium rule, we write:}$  \n",
    "\n",
    "$$\n",
    "\\text{Error} = \\int_{x}^{x+h} f(x) \\, dx - h \\cdot \\left( \\frac{f(x) + f(x+h)}{2} \\right)\n",
    "$$\n",
    "\n",
    "$\\text{Solving the integral (using the fundamental theorem of calculus) gives:}$  \n",
    "\n",
    "$$\n",
    "\\text{Error} = \\left[ F(x+h) - F(x) \\right] - h \\cdot \\left( \\frac{f(x) + f(x+h)}{2} \\right)\n",
    "$$\n",
    "\n",
    "$\\text{Where } F(x) \\text{ is the antiderivative of } f(x) \\text{.}$  \n",
    "\n",
    "$\\text{Now let us write F(x + h) as a taylor expansion near h:}$  \n",
    "\n",
    "$$\n",
    "F(x+h) = F(x) + h \\cdot F'(x) + \\frac{h^2}{2} \\cdot F''(x) + O(h^3)\n",
    "$$\n",
    "\n",
    "$\\text{Using the fact that F'(x) = f(x) and F''(x) = f'(x), we get:}$  \n",
    "\n",
    "$$\n",
    "F(x+h) = F(x) + h \\cdot f(x) + \\frac{h^2}{2} \\cdot f'(x) + O(h^3)\n",
    "$$\n",
    "\n",
    "$\\text{Plugging this into the error formula gives:}$  \n",
    "\n",
    "$$\n",
    "\\text{Error} = \\left[ F(x) + h \\cdot f(x) + \\frac{h^2}{2} \\cdot f'(x) + O(h^3) - F(x) \\right] - h \\cdot \\left( \\frac{f(x) + f(x+h)}{2} \\right)\n",
    "$$\n",
    "\n",
    "$\\text{Similar to the derivation for the rectangular rule we derived in the exercise, some terms cancel:}$\n",
    "\n",
    "$$\n",
    "\\text{Error} = h \\cdot f(x) + \\frac{h^2}{2} \\cdot f'(x) + O(h^3) - h \\cdot \\left( \\frac{f(x) + f(x+h)}{2} \\right)\n",
    "$$\n",
    "\n",
    "$\\text{Now we cal also write } f(x+h) \\text{ as a taylor expansion near h:}$\n",
    "\n",
    "$$\n",
    "f(x+h) = f(x) + h \\cdot f'(x) + \\frac{h^2}{2} \\cdot f''(x) + O(h^3)\n",
    "$$\n",
    "\n",
    "$\\text{Plugging this in gives:}$\n",
    "\n",
    "$$\n",
    "\\text{Error} = h \\cdot f(x) + \\frac{h^2}{2} \\cdot f'(x) + O(h^3) - h \\cdot \\left( \\frac{f(x) + f(x) + h \\cdot f'(x) + \\frac{h^2}{2} \\cdot f''(x) + O(h^3)}{2} \\right) = h \\cdot f(x) + \\frac{h^2}{2} \\cdot f'(x) + O(h^3) - h \\cdot f(x) - h \\cdot \\frac{h}{2} \\cdot f'(x) - h \\cdot \\frac{h^2}{4} \\cdot f''(x) - h \\cdot O(h^3)\n",
    "$$\n",
    "\n",
    "$\\text{After canceling some terms we obtain:}$\n",
    "\n",
    "$$\n",
    "\\text{Error} = -\\frac{h^3}{4} \\cdot f''(x) + O(h^3) \\in O(h^3)\n",
    "$$\n",
    "\n",
    "$\\text{This is the error per section. The error for the entire integral is the error per section times the number of sections N and } N \\propto \\frac{1}{h}$\n",
    "\n",
    "$\\text{So the over all error is:} O(h^3) * \\frac{1}{h} \\in O(n^2)$  \n",
    "$\\blacksquare$"
   ],
   "id": "f418e6aed094d3e6"
  },
  {
   "metadata": {},
   "cell_type": "markdown",
   "source": "",
   "id": "ef3c46c2821c1799"
  }
 ],
 "metadata": {
  "kernelspec": {
   "display_name": "Python 3",
   "language": "python",
   "name": "python3"
  },
  "language_info": {
   "codemirror_mode": {
    "name": "ipython",
    "version": 2
   },
   "file_extension": ".py",
   "mimetype": "text/x-python",
   "name": "python",
   "nbconvert_exporter": "python",
   "pygments_lexer": "ipython2",
   "version": "2.7.6"
  }
 },
 "nbformat": 4,
 "nbformat_minor": 5
}
