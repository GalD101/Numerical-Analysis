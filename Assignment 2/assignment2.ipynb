{
 "cells": [
  {
   "metadata": {},
   "cell_type": "markdown",
   "source": [
    "# Assignment 2\n",
    "## Gal Dali"
   ],
   "id": "39f97c88ff1397ac"
  },
  {
   "metadata": {},
   "cell_type": "markdown",
   "source": "### Question 1",
   "id": "12c18f0f1ae16cd7"
  },
  {
   "metadata": {},
   "cell_type": "markdown",
   "source": [
    "$\\text{The error is defined as the real value of the calculation minus the value we calculated numerically. For the trapezium rule, we write:}$  \n",
    "\n",
    "$$\n",
    "\\text{Error} = \\int_{x}^{x+h} f(x) \\, dx - h \\cdot \\left( \\frac{f(x) + f(x+h)}{2} \\right)\n",
    "$$\n",
    "\n",
    "$\\text{Solving the integral (using the fundamental theorem of calculus) gives:}$  \n",
    "\n",
    "$$\n",
    "\\text{Error} = \\left[ F(x+h) - F(x) \\right] - h \\cdot \\left( \\frac{f(x) + f(x+h)}{2} \\right)\n",
    "$$\n",
    "\n",
    "$\\text{Where } F(x) \\text{ is the antiderivative of } f(x) \\text{.}$  \n",
    "\n",
    "$\\text{Now let us write }F(x + h) \\text{ as a taylor expansion near h:}$  \n",
    "\n",
    "$$\n",
    "F(x+h) = F(x) + h \\cdot F'(x) + \\frac{h^2}{2} \\cdot F''(x) + O(h^3)\n",
    "$$\n",
    "\n",
    "$\\text{Using the fact that }F'(x) = f(x) \\text{ and } F''(x) = f'(x) \\text{, we get:}$  \n",
    "\n",
    "$$\n",
    "F(x+h) = F(x) + h \\cdot f(x) + \\frac{h^2}{2} \\cdot f'(x) + O(h^3)\n",
    "$$\n",
    "\n",
    "$\\text{Plugging this into the error formula gives:}$  \n",
    "\n",
    "$$\n",
    "\\text{Error} = \\left[ F(x) + h \\cdot f(x) + \\frac{h^2}{2} \\cdot f'(x) + O(h^3) - F(x) \\right] - h \\cdot \\left( \\frac{f(x) + f(x+h)}{2} \\right)\n",
    "$$\n",
    "\n",
    "$\\text{Similar to the derivation for the rectangular rule we derived in the exercise, some terms cancel:}$\n",
    "\n",
    "$$\n",
    "\\text{Error} = h \\cdot f(x) + \\frac{h^2}{2} \\cdot f'(x) + O(h^3) - h \\cdot \\left( \\frac{f(x) + f(x+h)}{2} \\right)\n",
    "$$\n",
    "\n",
    "$\\text{Now we cal also write } f(x+h) \\text{ as a taylor expansion near h:}$\n",
    "\n",
    "$$\n",
    "f(x+h) = f(x) + h \\cdot f'(x) + \\frac{h^2}{2} \\cdot f''(x) + O(h^3)\n",
    "$$\n",
    "\n",
    "$\\text{Plugging this in gives:}$\n",
    "\n",
    "$$\n",
    "\\text{Error} = h \\cdot f(x) + \\frac{h^2}{2} \\cdot f'(x) + O(h^3) - h \\cdot \\left( \\frac{f(x) + f(x) + h \\cdot f'(x) + \\frac{h^2}{2} \\cdot f''(x) + O(h^3)}{2} \\right) = h \\cdot f(x) + \\frac{h^2}{2} \\cdot f'(x) + O(h^3) - h \\cdot f(x) - h \\cdot \\frac{h}{2} \\cdot f'(x) - h \\cdot \\frac{h^2}{4} \\cdot f''(x) - h \\cdot O(h^3)\n",
    "$$\n",
    "\n",
    "$\\text{After canceling some terms we obtain:}$\n",
    "\n",
    "$$\n",
    "\\text{Error} = -\\frac{h^3}{4} \\cdot f''(x) + O(h^3) \\in O(h^3)\n",
    "$$\n",
    "\n",
    "$\\text{This is the error per section. The error for the entire integral is the error per section times the number of sections N and } N \\propto \\frac{1}{h}$\n",
    "\n",
    "$\\text{So the over all error is: } O(h^3) * \\frac{1}{h} \\in O(h^2).$  \n",
    "$\\blacksquare$"
   ],
   "id": "f418e6aed094d3e6"
  },
  {
   "metadata": {},
   "cell_type": "markdown",
   "source": "### Question 2",
   "id": "ef3c46c2821c1799"
  },
  {
   "metadata": {},
   "cell_type": "markdown",
   "source": [
    "#### Part A:\n",
    "$$\n",
    "\\int_{0}^{1} \\frac {ln^3(1+x)}{x^{1/3}} \\, dx\n",
    "$$\n",
    "\n",
    "$\\text{We will define h = 1/4 and use the following formula from the exercise sheet: } S = h(f_{0.5} +f_{1.5} + ... + f_{N-1.5} + f_{N-0.5})$\n",
    "\n",
    "$\\text{So in our case: } a = 0, b = 1 \\text{ and } S = \\frac{1}{4} \\left(f(0 + 0.5 \\cdot \\frac{1}{4}) + f(0 + 1.5 \\cdot \\frac{1}{4}) + f(0 + 2.5 \\cdot \\frac{1}{4}) + f(1 - 0.5 \\cdot \\frac{1}{4}) \\right) \\text{ where } f \\text{ is the integrand; } f(x) = \\frac {ln^3(1+x)}{x^{1/3}} \\$\n",
    "\n",
    "$\\text{I will calculate each one of the four points and plug in the formula:}$\n",
    "\n",
    "$f(0.5 \\cdot \\frac{1}{4}) = \\frac {ln^3(1+0.5 \\cdot \\frac{1}{4})}{(0.5 \\cdot \\frac{1}{4})^{1/3}} = \\frac {ln^3(1.125)}{0.125^{1/3}} \\approx 0.003268$  \n",
    "$f(1.5 \\cdot \\frac{1}{4}) = \\frac {ln^3(1+1.5 \\cdot \\frac{1}{4})}{(1.5 \\cdot \\frac{1}{4})^{1/3}} = \\frac {ln^3(1.375)}{0.375^{1/3}} \\approx 0.044785$  \n",
    "$f(2.5 \\cdot \\frac{1}{4}) = \\frac {ln^3(1+2.5 \\cdot \\frac{1}{4})}{(2.5 \\cdot \\frac{1}{4})^{1/3}} = \\frac {ln^3(1.625)}{0.625^{1/3}} \\approx 0.133853$  \n",
    "$f(1- 0.5 \\cdot \\frac{1}{4}) = \\frac {ln^3(1 + 1 - 0.5 \\cdot \\frac{1}{4})}{(1 - 0.5 \\cdot \\frac{1}{4})^{1/3}} = \\frac {ln^3(1.875)}{0.875^{1/3}} \\approx 0.2597$  \n",
    "\n",
    "$\\text{I get: } S = \\frac{1}{4} \\left(0.003268 + 0.044785 + 0.133853 + 0.2597 \\right) \\approx 0.1104015$  \n",
    "$\\text{The actual result is } 0.112031 \\text{ so the approximation is pretty good!}$\n"
   ],
   "id": "ff83c8b8e5d698a8"
  },
  {
   "metadata": {},
   "cell_type": "markdown",
   "source": [
    "#### Part B:\n",
    "$\\text{In order to increase our accuracy whilst keeping a minimal number of additional calculations, we'd want to divide the interval to be of } \\frac {h}{3} \\text{and we will begin from } \\frac {h}{6}. \\text{So we will use the points: } f_{1/6}, f_{1/2}, f_{5/6}, f_{7/6}, f_{3/2}, ...$  \n",
    "$\\text{Notice that we already calculated } f_{1/2} \\text{ and } f_{3/2} \\text{ so we don't have to compute these points again!}$  \n",
    "$\\text{In general, for the aforementioned method we will calculate } 2N \\text{ additional points, and our error will be 9 times smaller.}$  \n",
    "\n",
    "$\\text{If we apply the aforementioned technique to our example, we will get:}$  \n",
    "\n",
    "$f(1/6 \\cdot 1/4) = \\frac {ln^3(1+\\frac {1}{6} \\cdot \\frac{1}{4})}{(\\frac{1}{6} \\cdot \\frac {1}{4})^{1/3}} = \\frac {ln^3(1.0416667)}{0.0416667^{1/3}} \\approx 0.000196$  \n",
    "$f(0.5 \\cdot \\frac{1}{4}) \\approx 0.003268$  \n",
    "$f(5/6 \\cdot 1/4) = \\frac {ln^3(1+\\frac {5}{6} \\cdot \\frac{1}{4})}{(\\frac{5}{6} \\cdot \\frac {1}{4})^{1/3}} = \\frac {ln^3(1.2083333)}{0.2083333^{1/3}} \\approx 0.011432$  \n",
    "$f(7/6 \\cdot 1/4) = \\frac {ln^3(1+\\frac {7}{6} \\cdot \\frac{1}{4})}{(\\frac{7}{6} \\cdot \\frac {1}{4})^{1/3}} = \\frac {ln^3(1.2916667)}{0.2916667^{1/3}} \\approx 0.025279$  \n",
    "$f(1.5 \\cdot 1/4) \\approx 0.044785$  \n",
    "$f(11/6 \\cdot 1/4) = \\frac {ln^3(1+\\frac {11}{6} \\cdot \\frac{1}{4})}{(\\frac{11}{6} \\cdot \\frac {1}{4})^{1/3}} = \\frac {ln^3(1.4583333)}{0.4583333^{1/3}} \\approx 0.069659$  \n",
    "$f(13/6 \\cdot 1/4) = \\frac {ln^3(1+\\frac {13}{6} \\cdot \\frac{1}{4})}{(\\frac{13}{6} \\cdot \\frac {1}{4})^{1/3}} = \\frac {ln^3(1.5416667)}{0.5416667^{1/3}} \\approx 0.099497$  \n",
    "$f(2.5 \\cdot 1/4) \\approx 0.133853$  \n",
    "$f(17/6 \\cdot 1/4) = \\frac {ln^3(1+\\frac {17}{6} \\cdot \\frac{1}{4})}{(\\frac{17}{6} \\cdot \\frac {1}{4})^{1/3}} = \\frac {ln^3(1.7083333)}{0.7083333^{1/3}} \\approx 0.172283$  \n",
    "$f(19/6 \\cdot 1/4) = \\frac {ln^3(1+\\frac {19}{6} \\cdot \\frac{1}{4})}{(\\frac{19}{6} \\cdot \\frac {1}{4})^{1/3}} = \\frac {ln^3(1.7916667)}{0.7916667^{1/3}} \\approx 0.214364$  \n",
    "$f(3.5 \\cdot 1/4) \\approx 0.2597$  \n",
    "$f(23/6 \\cdot 1/4) = \\frac {ln^3(1+\\frac {23}{6} \\cdot \\frac{1}{4})}{(\\frac{23}{6} \\cdot \\frac {1}{4})^{1/3}} = \\frac {ln^3(1.95833)}{0.95833^{1/3}} \\approx 0.307929$\n",
    "  \\\n",
    "$\\text{So finally we get: } S = \\frac{1}{4} \\cdot \\frac{1}{3} \\left(0.000196 + 0.003268 + 0.011432 + 0.025279 + 0.044785 + 0.069659 + 0.099497 + 0.133853 + 0.172283 + 0.214364 + 0.2597 + 0.307929 \\right) \\approx 0.11185375 \\text{ which is a tad bit more accurate!}$"
   ],
   "id": "e22288bf94ac9527"
  },
  {
   "metadata": {},
   "cell_type": "markdown",
   "source": "### Question 3",
   "id": "6894170d0e46966f"
  },
  {
   "metadata": {
    "ExecuteTime": {
     "end_time": "2024-11-25T20:52:23.285933Z",
     "start_time": "2024-11-25T20:52:23.265943Z"
    }
   },
   "cell_type": "code",
   "source": [
    "import numpy as np\n",
    "import matplotlib.pyplot as plt"
   ],
   "id": "e134cb99e039cf40",
   "outputs": [],
   "execution_count": 183
  },
  {
   "metadata": {},
   "cell_type": "markdown",
   "source": "#### Trapezium Rule:",
   "id": "bff86f3aa6028ffe"
  },
  {
   "metadata": {
    "ExecuteTime": {
     "end_time": "2024-11-25T20:52:23.317008Z",
     "start_time": "2024-11-25T20:52:23.303749Z"
    }
   },
   "cell_type": "code",
   "source": [
    "# My solution:\n",
    "def integral_solve_using_trapezium_rule(f, a, b, N):\n",
    "    h = (b - a) / N  # Assume valid input\n",
    "    s = f(a) / 2\n",
    "    for i in range(1, N):\n",
    "        s += f(a + h * i)\n",
    "    s += f(b) / 2\n",
    "    s *= h\n",
    "    return s\n",
    "\n",
    "\n",
    "# Solution according to the notebook I was given:\n",
    "def integral_trapez(f, a, b, N):\n",
    "    h = (b - a) / N\n",
    "    t = np.linspace(a, b, N + 1)  # N+1 points for N segments\n",
    "    y = f(t)  # the value of the function at these points\n",
    "    S = (0.5 * (y[0] + y[N])) + y[1:N].sum()\n",
    "    I = h * S\n",
    "    return I"
   ],
   "id": "358a47ecc75183d5",
   "outputs": [],
   "execution_count": 184
  },
  {
   "metadata": {},
   "cell_type": "markdown",
   "source": "#### Romberg's Method:",
   "id": "fe42db33a274d580"
  },
  {
   "metadata": {
    "ExecuteTime": {
     "end_time": "2024-11-25T20:52:23.409920Z",
     "start_time": "2024-11-25T20:52:23.380566Z"
    }
   },
   "cell_type": "code",
   "source": [
    "# My solution:\n",
    "def integral_solve_using_romberg_method(f, a, b, N):\n",
    "    h = (b - a) / N  # Assume valid input\n",
    "\n",
    "    # Calculate S_n\n",
    "    s_n = integral_solve_using_trapezium_rule(f, a, b, N)\n",
    "\n",
    "    # Calculate S_2n\n",
    "    s_2n = integral_solve_using_trapezium_rule(f, a, b, 2 * N)\n",
    "\n",
    "    # Calculate the solution according to the formula in the exercise sheet\n",
    "    solution = (4 / 3) * s_2n - (1 / 3) * s_n  # + O(h^4)\n",
    "    return solution\n",
    "\n",
    "\n",
    "# Solution according to the notebook I was given:\n",
    "def integral_romberg(f, a, b, N):\n",
    "    h = (b - a) / N\n",
    "    t = np.linspace(a, b, 2 * N + 1)\n",
    "    y = f(t)\n",
    "\n",
    "    # y1 are the points on the edges of the N segments.\n",
    "    y1 = y[0:2 * N + 1:2]  # Slicing: y[start:stop_before:step]\n",
    "    # y2 are the points we add in the middle of each segment, to get 2N segments.\n",
    "    y2 = y[1:2 * N:2]  # Slicing: y[start:stop_before:step]\n",
    "\n",
    "    SN = sum(y1) - 0.5 * (y1[0] + y1[-1])  # Sum of the points for the first trapezoidal integral\n",
    "    S2N = SN + sum(y2)\n",
    "\n",
    "    IN = h * SN\n",
    "    I2N = 0.5 * h * S2N\n",
    "\n",
    "    I = (4 / 3) * I2N - (1 / 3) * IN\n",
    "    return I"
   ],
   "id": "7d5715d8d8c478b",
   "outputs": [],
   "execution_count": 185
  },
  {
   "metadata": {},
   "cell_type": "markdown",
   "source": "### Question 4",
   "id": "8d098d4fd5356df9"
  },
  {
   "metadata": {
    "ExecuteTime": {
     "end_time": "2024-11-25T20:52:23.434429Z",
     "start_time": "2024-11-25T20:52:23.417169Z"
    }
   },
   "cell_type": "code",
   "source": [
    "# Define the Integrand and the interval of integration for the question\n",
    "def integrand_q4(x):\n",
    "    return np.exp(x)\n",
    "\n",
    "\n",
    "# Define the interval of integration\n",
    "a = 0\n",
    "b = 1\n",
    "\n",
    "accurate_answer_q4 = np.exp(1) - 1"
   ],
   "id": "27de2f01131ce458",
   "outputs": [],
   "execution_count": 186
  },
  {
   "metadata": {
    "ExecuteTime": {
     "end_time": "2024-11-25T20:52:24.148758Z",
     "start_time": "2024-11-25T20:52:23.468593Z"
    }
   },
   "cell_type": "code",
   "source": [
    "answers_using_trapezium_rule_q4 = [integral_solve_using_trapezium_rule(integrand_q4, a, b, 2 ** k) for k in\n",
    "                                   range(2, 8 + 1)]\n",
    "answers_using_romberg_method_q4 = [integral_solve_using_romberg_method(integrand_q4, a, b, 2 ** k) for k in\n",
    "                                   range(2, 8 + 1)]\n",
    "\n",
    "error_trapezium_rule_q4 = [np.abs(ans - accurate_answer_q4) for ans in answers_using_trapezium_rule_q4]\n",
    "error_romberg_method_q4 = [np.abs(ans - accurate_answer_q4) for ans in answers_using_romberg_method_q4]\n",
    "\n",
    "# graph the error as a function of N in a loglog scale\n",
    "plt.figure()\n",
    "plt.loglog([2 ** k for k in range(2, 8 + 1)], error_trapezium_rule_q4, '-o', label=\"Trapezium Rule\")\n",
    "plt.loglog([2 ** k for k in range(2, 8 + 1)], error_romberg_method_q4, '-o', label=\"Romberg Method\")\n",
    "plt.xlabel(r\"$N$\")\n",
    "plt.ylabel(\"Error\")\n",
    "plt.legend()\n",
    "plt.show()"
   ],
   "id": "42fa333df4f7f992",
   "outputs": [
    {
     "data": {
      "text/plain": [
       "<Figure size 640x480 with 1 Axes>"
      ],
      "image/png": "[encoded data removed]"
     },
     "metadata": {},
     "output_type": "display_data"
    }
   ],
   "execution_count": 187
  },
  {
   "metadata": {
    "ExecuteTime": {
     "end_time": "2024-11-25T20:52:24.211923Z",
     "start_time": "2024-11-25T20:52:24.184853Z"
    }
   },
   "cell_type": "code",
   "source": [
    "# Here I will show that the error is O(h^2) for the Trapezium Rule\n",
    "N_q4 = 2 ** 6\n",
    "error_N_q4_trapezium = np.abs(integral_solve_using_trapezium_rule(integrand_q4, a, b, N_q4) - accurate_answer_q4)\n",
    "error_2N_q4_trapezium = np.abs(integral_solve_using_trapezium_rule(integrand_q4, a, b, 2 * N_q4) - accurate_answer_q4)\n",
    "\n",
    "# Multiply N by 2 -> divide h by 2 -> error should go like 2^2 = 4\n",
    "print(f\"Error for N (trapezium rule): {error_N_q4_trapezium}\")\n",
    "print(f\"Error for 2N (trapezium rule): {error_2N_q4_trapezium}\")\n",
    "print(f\"Error ratio for trapezium rule (should be ~4): {error_N_q4_trapezium / error_2N_q4_trapezium}\")\n",
    "\n",
    "# Here I will show that the error is O(h^4) for the Romberg Method\n",
    "error_N_q4_romberg = np.abs(integral_solve_using_romberg_method(integrand_q4, a, b, N_q4) - accurate_answer_q4)\n",
    "error_2N_q4_romberg = np.abs(integral_solve_using_romberg_method(integrand_q4, a, b, 2 * N_q4) - accurate_answer_q4)\n",
    "\n",
    "# Multiply N by 2 -> divide h by 2 -> error should go like 2^4 = 16\n",
    "print(f\"Error for N (Romberg's method): {error_N_q4_romberg}\")\n",
    "print(f\"Error for 2N (Romberg's method): {error_2N_q4_romberg}\")\n",
    "# When N = 2**8 I get ~19 instead of 16 :( WHY??? if you read this I'd like to understand why!\n",
    "print(f\"Error ratio for Romberg's method (should be ~16): {error_N_q4_romberg / error_2N_q4_romberg}\")"
   ],
   "id": "62d22e9928ce3481",
   "outputs": [
    {
     "name": "stdout",
     "output_type": "stream",
     "text": [
      "Error for N (trapezium rule): 3.495839104905585e-05\n",
      "Error for 2N (trapezium rule): 8.739624432818616e-06\n",
      "Error ratio for trapezium rule (should be ~4): 3.999987793271961\n",
      "Error for N (Romberg's method): 3.556066552334869e-11\n",
      "Error for 2N (Romberg's method): 2.2217783168798633e-12\n",
      "Error ratio for Romberg's method (should be ~16): 16.005496701978814\n"
     ]
    }
   ],
   "execution_count": 188
  },
  {
   "metadata": {},
   "cell_type": "markdown",
   "source": "### Question 5",
   "id": "d86e247e7d1c7504"
  },
  {
   "metadata": {},
   "cell_type": "markdown",
   "source": [
    "$$\n",
    "I = \\int_{0}^{\\infty} \\frac{1}{1 + x^4} \\, dx\n",
    "$$"
   ],
   "id": "793e26cdd00d69c8"
  },
  {
   "metadata": {},
   "cell_type": "markdown",
   "source": [
    "#### Part A:\n",
    "$\\text{In order to get an error of } O(10^{-6}) \\text{ I need to choose an } x_1 \\text{ that will make the error be of the order of } 10^{-6}.$  \n",
    "$\\text{ Error } = \\int_{x_1}^{\\infty} \\frac{1}{1 + x^4} \\, dx \\approx \\int_{x_1}^{\\infty} \\frac{1}{x^4} \\, dx = \\frac {1}{3x_1^3} \\longrightarrow Error \\propto x_1^{-3}$  \n",
    "$\\text{The question asks for } O(10^{-6}) \\text{ so I need to choose } x_1 = 10^2 \\text{ to satistfy the requirement.}$  \n",
    "$\\text{Now I need to determine h because we need to account for its effect on the accuracy}$  \n",
    "\n",
    "#### For the trapezium rule:\n",
    "$\\text{Error } \\propto O(h^2) \\text{ So we want Error to be proportional to } 10^{-6} \\text{ and thus: } h \\propto 10^{-3} \\longrightarrow N \\propto 10^3$  \n",
    "\n",
    "#### For the Romberg method:\n",
    "$\\text{Error } \\propto O(h^4) \\text{ So we want Error to be proportional to } 10^{-6} \\text{ and thus: } h \\propto 10^{-3/2} \\longrightarrow N \\propto 10^{3/2} \\approx 32$\n"
   ],
   "id": "1fd3654b86c03b2c"
  },
  {
   "metadata": {
    "ExecuteTime": {
     "end_time": "2024-11-25T20:52:24.323244Z",
     "start_time": "2024-11-25T20:52:24.291665Z"
    }
   },
   "cell_type": "code",
   "source": [
    "def integrand_q5(x):\n",
    "    return 1 / (1 + x ** 4)\n",
    "\n",
    "\n",
    "x_1 = 10 ** 2\n",
    "wolfram_alpha_result_q5 = 1.1107207345395915617539702475151734246536554223439225557713489017\n",
    "\n",
    "# Use the trapezium rule to solve the integral\n",
    "trapezium_answer_q5a = integral_solve_using_trapezium_rule(integrand_q5, 0, x_1, 10 ** 3)\n",
    "error_trapezium_rule_q5a = np.abs(trapezium_answer_q5a - wolfram_alpha_result_q5)\n",
    "\n",
    "# Use the Romberg method to solve the integral\n",
    "romberg_answer_q5a = integral_solve_using_romberg_method(integrand_q5, 0, x_1, int(10 ** 3 / 2))\n",
    "error_romberg_method_q5a = np.abs(romberg_answer_q5a - wolfram_alpha_result_q5)\n",
    "\n",
    "print(f\"Trapezium Rule: {trapezium_answer_q5a}\")\n",
    "print(f\"Romberg's method: {romberg_answer_q5a}\")\n",
    "print(f\"Wolfram Alpha: {wolfram_alpha_result_q5}\")\n",
    "\n",
    "# should be ~10^-6 or less (we even get the 3 term we neglected back when we calculated the error :) )\n",
    "print(f\"Error for trapezium {error_trapezium_rule_q5a}\")\n",
    "print(f\"Error for romberg: {error_romberg_method_q5a}\")"
   ],
   "id": "e0bb6f8e9f5eebe0",
   "outputs": [
    {
     "name": "stdout",
     "output_type": "stream",
     "text": [
      "Trapezium Rule: 1.1107204012059266\n",
      "Romberg's method: 1.1107204014057235\n",
      "Wolfram Alpha: 1.1107207345395915\n",
      "Error for trapezium 3.3333366489252114e-07\n",
      "Error for romberg: 3.331338680467866e-07\n"
     ]
    }
   ],
   "execution_count": 189
  },
  {
   "metadata": {},
   "cell_type": "markdown",
   "source": [
    "#### Part B:\n",
    "$$\n",
    "\\int_{0}^{\\infty} \\frac{1}{1 + x^4} \\, dx = \\int_{0}^{1} \\frac{1}{1 + x^4} \\, dx + \\int_{1}^{\\infty} \\frac{1}{1 + x^4} \\, dx = \\int_{0}^{1} \\frac{1}{1 + x^4} \\, dx + \\int_{0}^{1} \\frac{1}{t^2 \\cdot (1 + (1/t)^4)} \\, dt = \\int_{0}^{1} \\frac{1}{1 + x^4} \\, dx + \\int_{0}^{1} \\frac{1}{t^2 + \\frac {1}{t^2}} \\, dt = \\int_{0}^{1} \\frac{1}{1 + x^4} \\, dx + \\int_{0}^{1} \\frac{t^2}{1 + t^4} \\ \n",
    "$$"
   ],
   "id": "4fa2076993c3790"
  },
  {
   "metadata": {
    "ExecuteTime": {
     "end_time": "2024-11-25T20:52:24.386951Z",
     "start_time": "2024-11-25T20:52:24.355467Z"
    }
   },
   "cell_type": "code",
   "source": [
    "def integrand_q5b_part_1(x):\n",
    "    return 1 / (1 + x ** 4)\n",
    "\n",
    "\n",
    "def integrand_q5b_part_2(x):\n",
    "    return (x ** 2) / (1 + x ** 4)\n",
    "\n",
    "\n",
    "# Solve the first integral from 0 to 1 using the trapezium rule\n",
    "# trapezium rule error is O(h^2), I want O(10^-6) so I need h = 10^-3 and thus N = 10^3\n",
    "trapezium_answer_part_one_q5b = integral_solve_using_trapezium_rule(integrand_q5b_part_1, 0, 1, 10 ** 3)\n",
    "trapezium_answer_part_two_q5b = integral_solve_using_trapezium_rule(integrand_q5b_part_2, 0, 1, 10 ** 3)\n",
    "trapezium_answer_q5b = trapezium_answer_part_one_q5b + trapezium_answer_part_two_q5b\n",
    "error_trapezium_rule_q5b = np.abs(trapezium_answer_q5b - wolfram_alpha_result_q5)\n",
    "\n",
    "# Solve the first integral from 0 to 1 using Romberg's method\n",
    "# Romberg method error is O(h^4), I want O(10^-6) so I need h = 10^-3/2 and thus N = 10^3/2\n",
    "romberg_answer_part_one_q5b = integral_solve_using_romberg_method(integrand_q5b_part_1, 0, 1, int(10 ** 3 / 2))\n",
    "romberg_answer_part_two_q5b = integral_solve_using_romberg_method(integrand_q5b_part_2, 0, 1, int(10 ** 3 / 2))\n",
    "romberg_answer_q5b = romberg_answer_part_one_q5b + romberg_answer_part_two_q5b\n",
    "error_romberg_method_q5b = np.abs(romberg_answer_q5b - wolfram_alpha_result_q5)\n",
    "\n",
    "print(f\"Trapezium Rule: {trapezium_answer_q5b}\")\n",
    "print(f\"Romberg's method: {romberg_answer_q5b}\")\n",
    "print(f\"Wolfram Alpha: {wolfram_alpha_result_q5}\")\n",
    "\n",
    "print(f\"Error for trapezium {error_trapezium_rule_q5b}\")\n",
    "# For some reason this time the accuracy is much better than we wanted. Why? If you are reading this I'd like to understand why!\n",
    "print(f\"Error for Romberg {error_romberg_method_q5b}\")"
   ],
   "id": "65c214ff0670a0ea",
   "outputs": [
    {
     "name": "stdout",
     "output_type": "stream",
     "text": [
      "Trapezium Rule: 1.1107206512062415\n",
      "Romberg's method: 1.110720734539658\n",
      "Wolfram Alpha: 1.1107207345395915\n",
      "Error for trapezium 8.333334999832687e-08\n",
      "Error for Romberg 6.639133687258436e-14\n"
     ]
    }
   ],
   "execution_count": 190
  }
 ],
 "metadata": {
  "kernelspec": {
   "display_name": "Python 3",
   "language": "python",
   "name": "python3"
  },
  "language_info": {
   "codemirror_mode": {
    "name": "ipython",
    "version": 2
   },
   "file_extension": ".py",
   "mimetype": "text/x-python",
   "name": "python",
   "nbconvert_exporter": "python",
   "pygments_lexer": "ipython2",
   "version": "2.7.6"
  }
 },
 "nbformat": 4,
 "nbformat_minor": 5
}
