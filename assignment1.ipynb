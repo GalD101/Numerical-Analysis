{
 "cells": [
  {
   "metadata": {},
   "cell_type": "markdown",
   "source": [
    "# Assignment 1\n",
    "## Gal Dali"
   ],
   "id": "d56d4351d24bfa46"
  },
  {
   "metadata": {},
   "cell_type": "markdown",
   "source": [
    "### Question 1\n",
    "#### Part A:\n",
    "$\\text{We are given}$ $M = \\begin{pmatrix} 6 & 6 & 0 \\\\ 3 & 1 & 0 \\\\ 2 & 0 & 5 \\end{pmatrix}$. $\\text{Now let:}$ $L = \\begin{pmatrix} 1 & 0 & 0 \\\\ L_{21} & 1 & 0 \\\\ L_{31} & L_{32} & 1 \\end{pmatrix}$, $U = \\begin{pmatrix} U_{11} & U_{12} & U_{13} \\\\ 0 & U_{22} & U_{23} \\\\ 0 & 0 & U_{33} \\end{pmatrix}$\n",
    "\n",
    "$\\text{I require:}$ $M = L \\cdot U$  \n",
    "$\\text{I get the following equations:}$  \n",
    "\n",
    "$1 \\cdot U_{11} = 6$ $\\Rightarrow$ $U_{11} = 6$  \n",
    "\n",
    "$1 \\cdot U_{12} = 6$ $\\Rightarrow$ $U_{12} = 6$  \n",
    "\n",
    "$1 \\cdot U_{13} = 0$ $\\Rightarrow$ $U_{13} = 0$  \n",
    "\n",
    "$L_{21} \\cdot U_{11} = 3$ $\\Rightarrow$ $L_{21} \\cdot 6 = 3$ $\\Rightarrow$ $L_{21} = 1/2$  \n",
    "\n",
    "$L_{21} \\cdot U_{12} + 1 \\cdot U_{22} = 1$ $\\Rightarrow$ $1/2 \\cdot 6 + 1 \\cdot U_{22} = 1$ $\\Rightarrow$ $U_{22} = -2$  \n",
    "\n",
    "$L_{21} \\cdot U_{13} + 1 \\cdot U_{23} = 0$ $\\Rightarrow$ $2 \\cdot 0 + 1 \\cdot U_{23} = 0$ $\\Rightarrow$ $U_{23} = 0$  \n",
    "\n",
    "$L_{31} \\cdot U_{11} = 2$ $\\Rightarrow$ $L_{31} \\cdot 6 = 2$ $\\Rightarrow$ $L_{31} = 1/3$  \n",
    "\n",
    "$L_{31} \\cdot U_{12} + L_{32} \\cdot U_{22} = 0$ $\\Rightarrow$ $1/3 \\cdot 6 + L_{32} \\cdot (-2) = 0$ $\\Rightarrow$ $L_{32} = 1$  \n",
    "\n",
    "$L_{31} \\cdot U_{13} + L_{32} \\cdot U_{23} + 1 \\cdot U_{33} = 5$ $\\Rightarrow$ $1/3 \\cdot 0 + 1 \\cdot 0 + 1 \\cdot U_{33} = 5$ $\\Rightarrow$ $U_{33} = 5$  \n",
    "\n",
    "$\\text{From this I get the following decomposition as required:}$  \n",
    "\n",
    "$L = \\begin{pmatrix} 1 & 0 & 0 \\\\ 1/2 & 1 & 0 \\\\ 1/3 & 1 & 1 \\end{pmatrix}$ & $U = \\begin{pmatrix} 6 & 6 & 0 \\\\ 0 & -2 & 0 \\\\ 0 & 0 & 5 \\end{pmatrix}$  \n"
   ],
   "id": "3a55fb48a30b6488"
  },
  {
   "metadata": {},
   "cell_type": "markdown",
   "source": [
    "#### Part B:\n",
    "$\\text{let}$ $M = \\begin{pmatrix} m^{-1}_{11} & m^{-1}_{12} & m^{-1}_{13} \\\\ m^{-1}_{21} & m^{-1}_{22} & m^{-1}_{23} \\\\ m^{-1}_{31} & m^{-1}_{32} & m^{-1}_{33} \\end{pmatrix}$. $\\text{be the inverse of M}$  \n",
    "\n",
    "$\\text{we can write (from the exercise sheet):}$  \n",
    "\n",
    "$M \\cdot \\begin{pmatrix} m^{-1}_{11} \\\\ m^{-1}_{21} \\\\ m^{-1}_{31} \\end{pmatrix} = \\begin{pmatrix} 1 \\\\ 0 \\\\ 0 \\end{pmatrix}$, $M \\cdot \\begin{pmatrix} m^{-1}_{12} \\\\ m^{-1}_{22} \\\\ m^{-1}_{32} \\end{pmatrix} = \\begin{pmatrix} 0 \\\\ 1 \\\\ 0 \\end{pmatrix}$, $M \\cdot \\begin{pmatrix} m^{-1}_{13} \\\\ m^{-1}_{23} \\\\ m^{-1}_{33} \\end{pmatrix} = \\begin{pmatrix} 0 \\\\ 0 \\\\ 1 \\end{pmatrix}$  \n",
    "\n",
    "\n",
    "$\\text{Now}$:  \n",
    "\n",
    "$y =$  \n",
    "\n",
    "$L \\cdot y = I$\n",
    "\n",
    "\n"
   ],
   "id": "295bdfdb61ee568"
  },
  {
   "metadata": {},
   "cell_type": "markdown",
   "source": [
    "### Question 2\n",
    "#### Part A:\n",
    "$\\text{In the lecture we saw that for tridiagonal matrices,}$  \n",
    "\n",
    "$\\text{the L part of the decomposition will only contain non-zero elements on the main diagonal and the sub-diagonal (one below the main diagonal).}$  \n",
    "\n",
    "$\\text{Similarly the U part will only contain non-zero elements on the main diagonal and the super-diagonal (one above the main diagonal)}$"
   ],
   "id": "9b6163a766488601"
  },
  {
   "metadata": {
    "ExecuteTime": {
     "end_time": "2024-11-14T14:18:23.140357Z",
     "start_time": "2024-11-14T14:18:23.124158Z"
    }
   },
   "cell_type": "code",
   "source": [
    "import numpy as np\n",
    "\n",
    "\n",
    "def lu_decomp(A):\n",
    "    n = len(A)\n",
    "    L = np.zeros((n, n))\n",
    "    U = np.zeros((n, n))\n",
    "    # Performing the decomposition\n",
    "    for i in range(n):\n",
    "        # Upper triangular matrix U\n",
    "        for k in range(i, n):\n",
    "            U[i][k] = A[i][k] - sum(L[i][j] * U[j][k] for j in range(i))\n",
    "        # Lower triangular matrix L\n",
    "        for k in range(i, n):\n",
    "            if i == k:\n",
    "                L[i][i] = 1 # Diagonal elements of L are set to 1\n",
    "            else:\n",
    "                L[k][i] = (A[k][i] - sum(L[k][j] * U[j][i] for j in range(i))) / U[i][i]\n",
    "    return L, U\n",
    "\n",
    "def lu_tridiagonal(A: np.ndarray) -> tuple[np.ndarray, np.ndarray]:\n",
    "    \"\"\"\n",
    "    Performs an efficient O(n) LU decomposition of a tridiagonal matrix A.\n",
    "    :param A (numpy.darray): an n X n (rows X columns) tridiagonal matrix.\n",
    "    :return: L (numpy.darray): the lower triangular matrix of the LU decomposition with unit diagonal.\n",
    "             U (numpy.darray): the upper triangular matrix of the LU decomposition.\n",
    "    \"\"\"\n",
    "\n",
    "    n = len(A)\n",
    "    L = np.zeros((n, n))\n",
    "    U = np.zeros((n, n))\n",
    "\n",
    "    # this loop is running in O(n)\n",
    "    for i in range(n):\n",
    "        # first row of U is the same as the first row of A\n",
    "        U[0, i] = A[0, i]\n",
    "        \n",
    "        # diagonal of L is 1\n",
    "        L[i, i] = 1\n",
    "\n",
    "    # The rules for setting L and U came from solving it by hand and looking for ways to fix the issues I had on the internet\n",
    "    # this loop is running in O(n)\n",
    "    for j in range(1, n):\n",
    "        L[j, j - 1] = A[j, j - 1] / U[j - 1, j - 1]\n",
    "        \n",
    "        if j < n:\n",
    "            U[j - 1, j] = A[j - 1, j]\n",
    "\n",
    "        U[j, j] = A[j, j] - L[j, j - 1] * U[j - 1, j]\n",
    "    return L, U\n",
    "\n",
    "#test the function\n",
    "A = np.array([[8, 10, 0, 0], [7, 4, 5, 0], [0, 3, 6, 9], [0, 0, 2, 1]])\n",
    "L, U = lu_tridiagonal(A)\n",
    "print(\"L:\\n\", L)\n",
    "print(\"U:\\n\", U)"
   ],
   "id": "d6fd11443c508b4e",
   "outputs": [
    {
     "name": "stdout",
     "output_type": "stream",
     "text": [
      "L:\n",
      " [[ 1.          0.          0.          0.        ]\n",
      " [ 0.875       1.          0.          0.        ]\n",
      " [ 0.         -0.63157895  1.          0.        ]\n",
      " [ 0.          0.          0.2183908   1.        ]]\n",
      "U:\n",
      " [[ 8.         10.          0.          0.        ]\n",
      " [ 0.         -4.75        5.          0.        ]\n",
      " [ 0.          0.          9.15789474  9.        ]\n",
      " [ 0.          0.          0.         -0.96551724]]\n"
     ]
    }
   ],
   "execution_count": 29
  }
 ],
 "metadata": {
  "kernelspec": {
   "display_name": "Python 3",
   "language": "python",
   "name": "python3"
  },
  "language_info": {
   "codemirror_mode": {
    "name": "ipython",
    "version": 2
   },
   "file_extension": ".py",
   "mimetype": "text/x-python",
   "name": "python",
   "nbconvert_exporter": "python",
   "pygments_lexer": "ipython2",
   "version": "2.7.6"
  }
 },
 "nbformat": 4,
 "nbformat_minor": 5
}
