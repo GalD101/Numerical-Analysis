{
 "cells": [
  {
   "metadata": {},
   "cell_type": "markdown",
   "source": [
    "# Assignment 2\n",
    "## Gal Dali"
   ],
   "id": "39f97c88ff1397ac"
  },
  {
   "metadata": {},
   "cell_type": "markdown",
   "source": "### Question 1",
   "id": "12c18f0f1ae16cd7"
  },
  {
   "metadata": {},
   "cell_type": "markdown",
   "source": [
    "$\\text{We already know the trick from the lesson, write the taylor expansion and \"massage\" the equations to get an expression for } f'(x)$  \n",
    "\n",
    "$f(x + 2h) = f(x) + 2hf'(x) + \\frac {(2h)^2f''(x)}{2} + \\frac {(2h)^3f'''(x)}{6} + \\frac {(2h)^4f''''(x)}{24} + O(h^5)$  \n",
    "$f(x - 2h) = f(x) - 2hf'(x) + \\frac {(2h)^2f''(x)}{2} - \\frac {(2h)^3f'''(x)}{6} + \\frac {(2h)^4f''''(x)}{24} + O(h^5)$  \n",
    "    \n",
    "$f(x + h) = f(x) + hf'(x) + \\frac {h^2f''(x)}{2} + \\frac {h^3f'''(x)}{6} + \\frac {h^4f''''(x)}{24} + O(h^5)$  \n",
    "$f(x - h) = f(x) - hf'(x) + \\frac {h^2f''(x)}{2} - \\frac {h^3f'''(x)}{6} + \\frac {h^4f''''(x)}{24} + O(h^5)$  \n",
    "  \n",
    "$\\text{Now we can combine the equations to get an expression for } f'(x)$  \n",
    "$A \\triangleq  f(x + 2h) - f(x - 2h) = 4hf'(x) + \\frac {8h^3f'''(x)}{3} + O(h^5)$  \n",
    "$B \\triangleq f(x + h) - f(x - h) = 2hf'(x) + \\frac {h^3f'''(x)}{3} + O(h^5)$  \n",
    "\n",
    "$\\text{Notice that } 4B - A/2 = 6hf'(x) + O(h^5)$  \n",
    "$\\text{So that means that } f'(x) = \\frac {4B - A/2}{6h} + O(h^5) / 6h = \\frac {4B - A/2}{6h} + O(h^4)$  \n",
    "$\\text{I can simplify the expression a little to get rid of the half-term at the end } f'(x) = \\frac {8B - A}{12h} + O(h^4)$  \n",
    "\n",
    "$\\text{So the final answer is plugging in A and B } f'(x) = \\frac {8(f(x + h) - f(x - h)) - (f(x + 2h) - f(x - 2h))}{12h} + O(h^4)$"
   ],
   "id": "988193ceb1828805"
  },
  {
   "metadata": {},
   "cell_type": "markdown",
   "source": "### Question 2",
   "id": "ef3c46c2821c1799"
  },
  {
   "metadata": {},
   "cell_type": "markdown",
   "source": "",
   "id": "f6faec45771f9e86"
  }
 ],
 "metadata": {
  "kernelspec": {
   "display_name": "Python 3",
   "language": "python",
   "name": "python3"
  },
  "language_info": {
   "codemirror_mode": {
    "name": "ipython",
    "version": 2
   },
   "file_extension": ".py",
   "mimetype": "text/x-python",
   "name": "python",
   "nbconvert_exporter": "python",
   "pygments_lexer": "ipython2",
   "version": "2.7.6"
  }
 },
 "nbformat": 4,
 "nbformat_minor": 5
}
